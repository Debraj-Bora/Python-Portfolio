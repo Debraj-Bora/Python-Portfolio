{
 "cells": [
  {
   "cell_type": "code",
   "execution_count": 1,
   "id": "65861b0e",
   "metadata": {
    "_cell_guid": "b1076dfc-b9ad-4769-8c92-a6c4dae69d19",
    "_uuid": "8f2839f25d086af736a60e9eeb907d3b93b6e0e5",
    "papermill": {
     "duration": 1.367566,
     "end_time": "2024-10-17T06:00:07.495731",
     "exception": false,
     "start_time": "2024-10-17T06:00:06.128165",
     "status": "completed"
    },
    "tags": []
   },
   "outputs": [],
   "source": [
    "import pandas as pd \n",
    "import numpy as np \n",
    "import warnings\n",
    "import plotly.express as px\n",
    "import seaborn as sns\n",
    "import matplotlib.pyplot as plt"
   ]
  },
  {
   "cell_type": "code",
   "execution_count": 3,
   "id": "ada5ab4b",
   "metadata": {
    "papermill": {
     "duration": 38.832763,
     "end_time": "2024-10-17T06:00:46.351678",
     "exception": false,
     "start_time": "2024-10-17T06:00:07.518915",
     "status": "completed"
    },
    "tags": []
   },
   "outputs": [
    {
     "data": {
      "text/html": [
       "<div>\n",
       "<style scoped>\n",
       "    .dataframe tbody tr th:only-of-type {\n",
       "        vertical-align: middle;\n",
       "    }\n",
       "\n",
       "    .dataframe tbody tr th {\n",
       "        vertical-align: top;\n",
       "    }\n",
       "\n",
       "    .dataframe thead th {\n",
       "        text-align: right;\n",
       "    }\n",
       "</style>\n",
       "<table border=\"1\" class=\"dataframe\">\n",
       "  <thead>\n",
       "    <tr style=\"text-align: right;\">\n",
       "      <th></th>\n",
       "      <th>Year of event</th>\n",
       "      <th>Event dates</th>\n",
       "      <th>Event name</th>\n",
       "      <th>Event distance/length</th>\n",
       "      <th>Event number of finishers</th>\n",
       "      <th>Athlete performance</th>\n",
       "      <th>Athlete club</th>\n",
       "      <th>Athlete country</th>\n",
       "      <th>Athlete year of birth</th>\n",
       "      <th>Athlete gender</th>\n",
       "      <th>Athlete age category</th>\n",
       "      <th>Athlete average speed</th>\n",
       "      <th>Athlete ID</th>\n",
       "    </tr>\n",
       "  </thead>\n",
       "  <tbody>\n",
       "    <tr>\n",
       "      <th>0</th>\n",
       "      <td>2018</td>\n",
       "      <td>06.01.2018</td>\n",
       "      <td>Selva Costera (CHI)</td>\n",
       "      <td>50km</td>\n",
       "      <td>22</td>\n",
       "      <td>4:51:39 h</td>\n",
       "      <td>Tnfrc</td>\n",
       "      <td>CHI</td>\n",
       "      <td>1978.0</td>\n",
       "      <td>M</td>\n",
       "      <td>M35</td>\n",
       "      <td>10.286</td>\n",
       "      <td>0</td>\n",
       "    </tr>\n",
       "    <tr>\n",
       "      <th>1</th>\n",
       "      <td>2018</td>\n",
       "      <td>06.01.2018</td>\n",
       "      <td>Selva Costera (CHI)</td>\n",
       "      <td>50km</td>\n",
       "      <td>22</td>\n",
       "      <td>5:15:45 h</td>\n",
       "      <td>Roberto Echeverría</td>\n",
       "      <td>CHI</td>\n",
       "      <td>1981.0</td>\n",
       "      <td>M</td>\n",
       "      <td>M35</td>\n",
       "      <td>9.501</td>\n",
       "      <td>1</td>\n",
       "    </tr>\n",
       "    <tr>\n",
       "      <th>2</th>\n",
       "      <td>2018</td>\n",
       "      <td>06.01.2018</td>\n",
       "      <td>Selva Costera (CHI)</td>\n",
       "      <td>50km</td>\n",
       "      <td>22</td>\n",
       "      <td>5:16:44 h</td>\n",
       "      <td>Puro Trail Osorno</td>\n",
       "      <td>CHI</td>\n",
       "      <td>1987.0</td>\n",
       "      <td>M</td>\n",
       "      <td>M23</td>\n",
       "      <td>9.472</td>\n",
       "      <td>2</td>\n",
       "    </tr>\n",
       "    <tr>\n",
       "      <th>3</th>\n",
       "      <td>2018</td>\n",
       "      <td>06.01.2018</td>\n",
       "      <td>Selva Costera (CHI)</td>\n",
       "      <td>50km</td>\n",
       "      <td>22</td>\n",
       "      <td>5:34:13 h</td>\n",
       "      <td>Columbia</td>\n",
       "      <td>ARG</td>\n",
       "      <td>1976.0</td>\n",
       "      <td>M</td>\n",
       "      <td>M40</td>\n",
       "      <td>8.976</td>\n",
       "      <td>3</td>\n",
       "    </tr>\n",
       "    <tr>\n",
       "      <th>4</th>\n",
       "      <td>2018</td>\n",
       "      <td>06.01.2018</td>\n",
       "      <td>Selva Costera (CHI)</td>\n",
       "      <td>50km</td>\n",
       "      <td>22</td>\n",
       "      <td>5:54:14 h</td>\n",
       "      <td>Baguales Trail</td>\n",
       "      <td>CHI</td>\n",
       "      <td>1992.0</td>\n",
       "      <td>M</td>\n",
       "      <td>M23</td>\n",
       "      <td>8.469</td>\n",
       "      <td>4</td>\n",
       "    </tr>\n",
       "  </tbody>\n",
       "</table>\n",
       "</div>"
      ],
      "text/plain": [
       "   Year of event Event dates           Event name Event distance/length  \\\n",
       "0           2018  06.01.2018  Selva Costera (CHI)                  50km   \n",
       "1           2018  06.01.2018  Selva Costera (CHI)                  50km   \n",
       "2           2018  06.01.2018  Selva Costera (CHI)                  50km   \n",
       "3           2018  06.01.2018  Selva Costera (CHI)                  50km   \n",
       "4           2018  06.01.2018  Selva Costera (CHI)                  50km   \n",
       "\n",
       "   Event number of finishers Athlete performance        Athlete club  \\\n",
       "0                         22           4:51:39 h               Tnfrc   \n",
       "1                         22           5:15:45 h  Roberto Echeverría   \n",
       "2                         22           5:16:44 h   Puro Trail Osorno   \n",
       "3                         22           5:34:13 h            Columbia   \n",
       "4                         22           5:54:14 h      Baguales Trail   \n",
       "\n",
       "  Athlete country  Athlete year of birth Athlete gender Athlete age category  \\\n",
       "0             CHI                 1978.0              M                  M35   \n",
       "1             CHI                 1981.0              M                  M35   \n",
       "2             CHI                 1987.0              M                  M23   \n",
       "3             ARG                 1976.0              M                  M40   \n",
       "4             CHI                 1992.0              M                  M23   \n",
       "\n",
       "  Athlete average speed  Athlete ID  \n",
       "0                10.286           0  \n",
       "1                 9.501           1  \n",
       "2                 9.472           2  \n",
       "3                 8.976           3  \n",
       "4                 8.469           4  "
      ]
     },
     "execution_count": 3,
     "metadata": {},
     "output_type": "execute_result"
    }
   ],
   "source": [
    "warnings.filterwarnings('ignore')\n",
    "df=pd.read_csv('ultra_marathon.csv')\n",
    "df.head()"
   ]
  },
  {
   "cell_type": "markdown",
   "id": "73185b10",
   "metadata": {
    "papermill": {
     "duration": 0.0223,
     "end_time": "2024-10-17T06:00:46.397928",
     "exception": false,
     "start_time": "2024-10-17T06:00:46.375628",
     "status": "completed"
    },
    "tags": []
   },
   "source": [
    "## ***Data Cleaning and Preparation***"
   ]
  },
  {
   "cell_type": "code",
   "execution_count": 5,
   "id": "4f61deb3",
   "metadata": {
    "papermill": {
     "duration": 0.04585,
     "end_time": "2024-10-17T06:00:46.471794",
     "exception": false,
     "start_time": "2024-10-17T06:00:46.425944",
     "status": "completed"
    },
    "tags": []
   },
   "outputs": [
    {
     "data": {
      "text/plain": [
       "(7461195, 13)"
      ]
     },
     "execution_count": 5,
     "metadata": {},
     "output_type": "execute_result"
    }
   ],
   "source": [
    "df.shape"
   ]
  },
  {
   "cell_type": "code",
   "execution_count": 7,
   "id": "f183c7df",
   "metadata": {
    "papermill": {
     "duration": 0.042781,
     "end_time": "2024-10-17T06:00:46.547095",
     "exception": false,
     "start_time": "2024-10-17T06:00:46.504314",
     "status": "completed"
    },
    "tags": []
   },
   "outputs": [
    {
     "data": {
      "text/plain": [
       "Year of event                  int64\n",
       "Event dates                   object\n",
       "Event name                    object\n",
       "Event distance/length         object\n",
       "Event number of finishers      int64\n",
       "Athlete performance           object\n",
       "Athlete club                  object\n",
       "Athlete country               object\n",
       "Athlete year of birth        float64\n",
       "Athlete gender                object\n",
       "Athlete age category          object\n",
       "Athlete average speed         object\n",
       "Athlete ID                     int64\n",
       "dtype: object"
      ]
     },
     "execution_count": 7,
     "metadata": {},
     "output_type": "execute_result"
    }
   ],
   "source": [
    "df.dtypes"
   ]
  },
  {
   "cell_type": "markdown",
   "id": "a8a5cef8-eb7e-48c1-b580-b8e2067b8823",
   "metadata": {
    "execution": {
     "iopub.execute_input": "2024-10-17T06:00:46.594449Z",
     "iopub.status.busy": "2024-10-17T06:00:46.594045Z",
     "iopub.status.idle": "2024-10-17T06:00:46.599081Z",
     "shell.execute_reply": "2024-10-17T06:00:46.597883Z"
    },
    "papermill": {
     "duration": 0.032242,
     "end_time": "2024-10-17T06:00:46.602109",
     "exception": false,
     "start_time": "2024-10-17T06:00:46.569867",
     "status": "completed"
    },
    "tags": []
   },
   "source": [
    "## Selecting Indian athletes for analysis "
   ]
  },
  {
   "cell_type": "code",
   "execution_count": 9,
   "id": "a321b1dc",
   "metadata": {
    "papermill": {
     "duration": 1.528356,
     "end_time": "2024-10-17T06:00:48.157952",
     "exception": false,
     "start_time": "2024-10-17T06:00:46.629596",
     "status": "completed"
    },
    "tags": []
   },
   "outputs": [
    {
     "data": {
      "text/html": [
       "<div>\n",
       "<style scoped>\n",
       "    .dataframe tbody tr th:only-of-type {\n",
       "        vertical-align: middle;\n",
       "    }\n",
       "\n",
       "    .dataframe tbody tr th {\n",
       "        vertical-align: top;\n",
       "    }\n",
       "\n",
       "    .dataframe thead th {\n",
       "        text-align: right;\n",
       "    }\n",
       "</style>\n",
       "<table border=\"1\" class=\"dataframe\">\n",
       "  <thead>\n",
       "    <tr style=\"text-align: right;\">\n",
       "      <th></th>\n",
       "      <th>Year of event</th>\n",
       "      <th>Event dates</th>\n",
       "      <th>Event name</th>\n",
       "      <th>Event distance/length</th>\n",
       "      <th>Event number of finishers</th>\n",
       "      <th>Athlete performance</th>\n",
       "      <th>Athlete club</th>\n",
       "      <th>Athlete country</th>\n",
       "      <th>Athlete year of birth</th>\n",
       "      <th>Athlete gender</th>\n",
       "      <th>Athlete age category</th>\n",
       "      <th>Athlete average speed</th>\n",
       "      <th>Athlete ID</th>\n",
       "    </tr>\n",
       "  </thead>\n",
       "  <tbody>\n",
       "    <tr>\n",
       "      <th>5829</th>\n",
       "      <td>2018</td>\n",
       "      <td>18.03.2018</td>\n",
       "      <td>TITI 50km Road Ultra Marathon (MAS)</td>\n",
       "      <td>50km</td>\n",
       "      <td>282</td>\n",
       "      <td>8:37:30 h</td>\n",
       "      <td>NaN</td>\n",
       "      <td>IND</td>\n",
       "      <td>NaN</td>\n",
       "      <td>M</td>\n",
       "      <td>NaN</td>\n",
       "      <td>5.797</td>\n",
       "      <td>5197</td>\n",
       "    </tr>\n",
       "    <tr>\n",
       "      <th>5843</th>\n",
       "      <td>2018</td>\n",
       "      <td>18.03.2018</td>\n",
       "      <td>TITI 50km Road Ultra Marathon (MAS)</td>\n",
       "      <td>50km</td>\n",
       "      <td>282</td>\n",
       "      <td>8:44:07 h</td>\n",
       "      <td>NaN</td>\n",
       "      <td>IND</td>\n",
       "      <td>1977.0</td>\n",
       "      <td>M</td>\n",
       "      <td>M40</td>\n",
       "      <td>5.724</td>\n",
       "      <td>5211</td>\n",
       "    </tr>\n",
       "    <tr>\n",
       "      <th>10779</th>\n",
       "      <td>2018</td>\n",
       "      <td>17.03.2018</td>\n",
       "      <td>EcoTrail de Paris - Ile de France 45 km (FRA)</td>\n",
       "      <td>45km</td>\n",
       "      <td>1393</td>\n",
       "      <td>6:09:40 h</td>\n",
       "      <td>*Heidelberg</td>\n",
       "      <td>IND</td>\n",
       "      <td>1990.0</td>\n",
       "      <td>M</td>\n",
       "      <td>M23</td>\n",
       "      <td>7.304</td>\n",
       "      <td>10112</td>\n",
       "    </tr>\n",
       "    <tr>\n",
       "      <th>16245</th>\n",
       "      <td>2018</td>\n",
       "      <td>17.03.2018</td>\n",
       "      <td>Om Die Dam 50km (RSA)</td>\n",
       "      <td>50km</td>\n",
       "      <td>2491</td>\n",
       "      <td>5:18:55 h</td>\n",
       "      <td>Brackenfell Athletics ...</td>\n",
       "      <td>IND</td>\n",
       "      <td>1988.0</td>\n",
       "      <td>M</td>\n",
       "      <td>M23</td>\n",
       "      <td>9.407</td>\n",
       "      <td>15497</td>\n",
       "    </tr>\n",
       "    <tr>\n",
       "      <th>18624</th>\n",
       "      <td>2018</td>\n",
       "      <td>17.03.2018</td>\n",
       "      <td>Dalat Ultra Trail (VIE)</td>\n",
       "      <td>70km</td>\n",
       "      <td>135</td>\n",
       "      <td>9:21:59 h</td>\n",
       "      <td>NaN</td>\n",
       "      <td>IND</td>\n",
       "      <td>1986.0</td>\n",
       "      <td>M</td>\n",
       "      <td>M23</td>\n",
       "      <td>7.474</td>\n",
       "      <td>17865</td>\n",
       "    </tr>\n",
       "  </tbody>\n",
       "</table>\n",
       "</div>"
      ],
      "text/plain": [
       "       Year of event Event dates  \\\n",
       "5829            2018  18.03.2018   \n",
       "5843            2018  18.03.2018   \n",
       "10779           2018  17.03.2018   \n",
       "16245           2018  17.03.2018   \n",
       "18624           2018  17.03.2018   \n",
       "\n",
       "                                          Event name Event distance/length  \\\n",
       "5829             TITI 50km Road Ultra Marathon (MAS)                  50km   \n",
       "5843             TITI 50km Road Ultra Marathon (MAS)                  50km   \n",
       "10779  EcoTrail de Paris - Ile de France 45 km (FRA)                  45km   \n",
       "16245                          Om Die Dam 50km (RSA)                  50km   \n",
       "18624                        Dalat Ultra Trail (VIE)                  70km   \n",
       "\n",
       "       Event number of finishers Athlete performance  \\\n",
       "5829                         282           8:37:30 h   \n",
       "5843                         282           8:44:07 h   \n",
       "10779                       1393           6:09:40 h   \n",
       "16245                       2491           5:18:55 h   \n",
       "18624                        135           9:21:59 h   \n",
       "\n",
       "                    Athlete club Athlete country  Athlete year of birth  \\\n",
       "5829                         NaN             IND                    NaN   \n",
       "5843                         NaN             IND                 1977.0   \n",
       "10779                *Heidelberg             IND                 1990.0   \n",
       "16245  Brackenfell Athletics ...             IND                 1988.0   \n",
       "18624                        NaN             IND                 1986.0   \n",
       "\n",
       "      Athlete gender Athlete age category Athlete average speed  Athlete ID  \n",
       "5829               M                  NaN                 5.797        5197  \n",
       "5843               M                  M40                 5.724        5211  \n",
       "10779              M                  M23                 7.304       10112  \n",
       "16245              M                  M23                 9.407       15497  \n",
       "18624              M                  M23                 7.474       17865  "
      ]
     },
     "execution_count": 9,
     "metadata": {},
     "output_type": "execute_result"
    }
   ],
   "source": [
    "df=df[df['Athlete country']=='IND']\n",
    "df.head()"
   ]
  },
  {
   "cell_type": "code",
   "execution_count": 11,
   "id": "b936bd9d",
   "metadata": {
    "papermill": {
     "duration": 0.03602,
     "end_time": "2024-10-17T06:00:48.217156",
     "exception": false,
     "start_time": "2024-10-17T06:00:48.181136",
     "status": "completed"
    },
    "tags": []
   },
   "outputs": [
    {
     "data": {
      "text/plain": [
       "(16677, 13)"
      ]
     },
     "execution_count": 11,
     "metadata": {},
     "output_type": "execute_result"
    }
   ],
   "source": [
    "df.shape"
   ]
  },
  {
   "cell_type": "code",
   "execution_count": 21,
   "id": "d0a49355",
   "metadata": {
    "papermill": {
     "duration": 0.039349,
     "end_time": "2024-10-17T06:00:48.280085",
     "exception": false,
     "start_time": "2024-10-17T06:00:48.240736",
     "status": "completed"
    },
    "tags": []
   },
   "outputs": [
    {
     "data": {
      "text/plain": [
       "215"
      ]
     },
     "execution_count": 21,
     "metadata": {},
     "output_type": "execute_result"
    }
   ],
   "source": [
    "len(df['Event distance/length'].unique())"
   ]
  },
  {
   "cell_type": "code",
   "execution_count": 23,
   "id": "71330003",
   "metadata": {
    "papermill": {
     "duration": 0.045426,
     "end_time": "2024-10-17T06:00:48.349096",
     "exception": false,
     "start_time": "2024-10-17T06:00:48.303670",
     "status": "completed"
    },
    "tags": []
   },
   "outputs": [
    {
     "data": {
      "text/plain": [
       "Event distance/length\n",
       "50km      6008\n",
       "12h       1757\n",
       "100km      981\n",
       "24h        911\n",
       "60km       583\n",
       "          ... \n",
       "28h          1\n",
       "63.6km       1\n",
       "46.7km       1\n",
       "65.3km       1\n",
       "71.5km       1\n",
       "Name: count, Length: 215, dtype: int64"
      ]
     },
     "execution_count": 23,
     "metadata": {},
     "output_type": "execute_result"
    }
   ],
   "source": [
    "df['Event distance/length'].value_counts()"
   ]
  },
  {
   "cell_type": "markdown",
   "id": "afa03391-d727-408d-8acd-9db7dce93168",
   "metadata": {},
   "source": [
    "- Keeping only the 50km,100km,12hours and 24 hours as they are the most frequent values"
   ]
  },
  {
   "cell_type": "code",
   "execution_count": 25,
   "id": "2c0acbfc",
   "metadata": {
    "papermill": {
     "duration": 0.058604,
     "end_time": "2024-10-17T06:00:48.431980",
     "exception": false,
     "start_time": "2024-10-17T06:00:48.373376",
     "status": "completed"
    },
    "tags": []
   },
   "outputs": [
    {
     "data": {
      "text/html": [
       "<div>\n",
       "<style scoped>\n",
       "    .dataframe tbody tr th:only-of-type {\n",
       "        vertical-align: middle;\n",
       "    }\n",
       "\n",
       "    .dataframe tbody tr th {\n",
       "        vertical-align: top;\n",
       "    }\n",
       "\n",
       "    .dataframe thead th {\n",
       "        text-align: right;\n",
       "    }\n",
       "</style>\n",
       "<table border=\"1\" class=\"dataframe\">\n",
       "  <thead>\n",
       "    <tr style=\"text-align: right;\">\n",
       "      <th></th>\n",
       "      <th>Year of event</th>\n",
       "      <th>Event dates</th>\n",
       "      <th>Event name</th>\n",
       "      <th>Event distance/length</th>\n",
       "      <th>Event number of finishers</th>\n",
       "      <th>Athlete performance</th>\n",
       "      <th>Athlete club</th>\n",
       "      <th>Athlete country</th>\n",
       "      <th>Athlete year of birth</th>\n",
       "      <th>Athlete gender</th>\n",
       "      <th>Athlete age category</th>\n",
       "      <th>Athlete average speed</th>\n",
       "      <th>Athlete ID</th>\n",
       "    </tr>\n",
       "  </thead>\n",
       "  <tbody>\n",
       "    <tr>\n",
       "      <th>5829</th>\n",
       "      <td>2018</td>\n",
       "      <td>18.03.2018</td>\n",
       "      <td>TITI 50km Road Ultra Marathon (MAS)</td>\n",
       "      <td>50km</td>\n",
       "      <td>282</td>\n",
       "      <td>8:37:30 h</td>\n",
       "      <td>NaN</td>\n",
       "      <td>IND</td>\n",
       "      <td>NaN</td>\n",
       "      <td>M</td>\n",
       "      <td>NaN</td>\n",
       "      <td>5.797</td>\n",
       "      <td>5197</td>\n",
       "    </tr>\n",
       "    <tr>\n",
       "      <th>5843</th>\n",
       "      <td>2018</td>\n",
       "      <td>18.03.2018</td>\n",
       "      <td>TITI 50km Road Ultra Marathon (MAS)</td>\n",
       "      <td>50km</td>\n",
       "      <td>282</td>\n",
       "      <td>8:44:07 h</td>\n",
       "      <td>NaN</td>\n",
       "      <td>IND</td>\n",
       "      <td>1977.0</td>\n",
       "      <td>M</td>\n",
       "      <td>M40</td>\n",
       "      <td>5.724</td>\n",
       "      <td>5211</td>\n",
       "    </tr>\n",
       "    <tr>\n",
       "      <th>16245</th>\n",
       "      <td>2018</td>\n",
       "      <td>17.03.2018</td>\n",
       "      <td>Om Die Dam 50km (RSA)</td>\n",
       "      <td>50km</td>\n",
       "      <td>2491</td>\n",
       "      <td>5:18:55 h</td>\n",
       "      <td>Brackenfell Athletics ...</td>\n",
       "      <td>IND</td>\n",
       "      <td>1988.0</td>\n",
       "      <td>M</td>\n",
       "      <td>M23</td>\n",
       "      <td>9.407</td>\n",
       "      <td>15497</td>\n",
       "    </tr>\n",
       "    <tr>\n",
       "      <th>23416</th>\n",
       "      <td>2018</td>\n",
       "      <td>10.03.2018</td>\n",
       "      <td>North C Trail (BEL)</td>\n",
       "      <td>50km</td>\n",
       "      <td>192</td>\n",
       "      <td>8:04:30 h</td>\n",
       "      <td>NaN</td>\n",
       "      <td>IND</td>\n",
       "      <td>1990.0</td>\n",
       "      <td>F</td>\n",
       "      <td>W23</td>\n",
       "      <td>6.192</td>\n",
       "      <td>22117</td>\n",
       "    </tr>\n",
       "    <tr>\n",
       "      <th>24745</th>\n",
       "      <td>2018</td>\n",
       "      <td>10.03.2018</td>\n",
       "      <td>Crazy Desert Trail Race 50k (USA)</td>\n",
       "      <td>50km</td>\n",
       "      <td>59</td>\n",
       "      <td>6:21:38 h</td>\n",
       "      <td>*Dallas, TX</td>\n",
       "      <td>IND</td>\n",
       "      <td>1987.0</td>\n",
       "      <td>M</td>\n",
       "      <td>M23</td>\n",
       "      <td>7.861</td>\n",
       "      <td>23372</td>\n",
       "    </tr>\n",
       "  </tbody>\n",
       "</table>\n",
       "</div>"
      ],
      "text/plain": [
       "       Year of event Event dates                           Event name  \\\n",
       "5829            2018  18.03.2018  TITI 50km Road Ultra Marathon (MAS)   \n",
       "5843            2018  18.03.2018  TITI 50km Road Ultra Marathon (MAS)   \n",
       "16245           2018  17.03.2018                Om Die Dam 50km (RSA)   \n",
       "23416           2018  10.03.2018                  North C Trail (BEL)   \n",
       "24745           2018  10.03.2018    Crazy Desert Trail Race 50k (USA)   \n",
       "\n",
       "      Event distance/length  Event number of finishers Athlete performance  \\\n",
       "5829                   50km                        282           8:37:30 h   \n",
       "5843                   50km                        282           8:44:07 h   \n",
       "16245                  50km                       2491           5:18:55 h   \n",
       "23416                  50km                        192           8:04:30 h   \n",
       "24745                  50km                         59           6:21:38 h   \n",
       "\n",
       "                    Athlete club Athlete country  Athlete year of birth  \\\n",
       "5829                         NaN             IND                    NaN   \n",
       "5843                         NaN             IND                 1977.0   \n",
       "16245  Brackenfell Athletics ...             IND                 1988.0   \n",
       "23416                        NaN             IND                 1990.0   \n",
       "24745                *Dallas, TX             IND                 1987.0   \n",
       "\n",
       "      Athlete gender Athlete age category Athlete average speed  Athlete ID  \n",
       "5829               M                  NaN                 5.797        5197  \n",
       "5843               M                  M40                 5.724        5211  \n",
       "16245              M                  M23                 9.407       15497  \n",
       "23416              F                  W23                 6.192       22117  \n",
       "24745              M                  M23                 7.861       23372  "
      ]
     },
     "execution_count": 25,
     "metadata": {},
     "output_type": "execute_result"
    }
   ],
   "source": [
    "df=df[df['Event distance/length'].isin(['50km','100km','12h','24h'])]\n",
    "df.head()"
   ]
  },
  {
   "cell_type": "code",
   "execution_count": 27,
   "id": "00c7d990",
   "metadata": {
    "papermill": {
     "duration": 0.041122,
     "end_time": "2024-10-17T06:00:48.497270",
     "exception": false,
     "start_time": "2024-10-17T06:00:48.456148",
     "status": "completed"
    },
    "tags": []
   },
   "outputs": [
    {
     "data": {
      "text/plain": [
       "Athlete club\n",
       "*Bangalore               285\n",
       "*Mumbai                  228\n",
       "*Chennai                 104\n",
       "*Pune                     74\n",
       "*Bengaluru                44\n",
       "                        ... \n",
       "*Atlanta, GA               1\n",
       "*Ajax                      1\n",
       "*Bengalore                 1\n",
       "Brackenfell Athletics      1\n",
       "*Nairobi                   1\n",
       "Name: count, Length: 332, dtype: int64"
      ]
     },
     "execution_count": 27,
     "metadata": {},
     "output_type": "execute_result"
    }
   ],
   "source": [
    "df['Athlete club'].value_counts()"
   ]
  },
  {
   "cell_type": "markdown",
   "id": "407aa0df-eedd-48f0-a212-9ffc7dd1e8c1",
   "metadata": {},
   "source": [
    "- As most of the values in the Athlete club are null, so we can ignore this column"
   ]
  },
  {
   "cell_type": "code",
   "execution_count": 29,
   "id": "d0f90229",
   "metadata": {
    "papermill": {
     "duration": 0.037324,
     "end_time": "2024-10-17T06:00:48.559200",
     "exception": false,
     "start_time": "2024-10-17T06:00:48.521876",
     "status": "completed"
    },
    "tags": []
   },
   "outputs": [
    {
     "data": {
      "text/plain": [
       "8126"
      ]
     },
     "execution_count": 29,
     "metadata": {},
     "output_type": "execute_result"
    }
   ],
   "source": [
    "df['Athlete club'].isnull().sum()"
   ]
  },
  {
   "cell_type": "code",
   "execution_count": 31,
   "id": "79b03ce7",
   "metadata": {
    "papermill": {
     "duration": 0.040952,
     "end_time": "2024-10-17T06:00:48.624415",
     "exception": false,
     "start_time": "2024-10-17T06:00:48.583463",
     "status": "completed"
    },
    "tags": []
   },
   "outputs": [
    {
     "data": {
      "text/plain": [
       "Event name\n",
       "The Malnad Ultra 50K (IND)               666\n",
       "Bangalore 50 km Ultra Marathon (IND)     661\n",
       "Tata Ultra Marathon (IND)                486\n",
       "Bengaluru 12 Hour Stadium Run (IND)      425\n",
       "Mumbai 12 Hour Stadium Run (IND)         320\n",
       "                                        ... \n",
       "Runners Wild Bario (MAS)                   1\n",
       "3 Days at the Fair 12 Hour Race (USA)      1\n",
       "London 2 Brighton Challenge (GBR)          1\n",
       "MSIG Lantau 50 (HKG)                       1\n",
       "Hashawha Hills 50 km Trail Run (USA)       1\n",
       "Name: count, Length: 538, dtype: int64"
      ]
     },
     "execution_count": 31,
     "metadata": {},
     "output_type": "execute_result"
    }
   ],
   "source": [
    "df['Event name'].value_counts()"
   ]
  },
  {
   "cell_type": "markdown",
   "id": "b6e19f91-9060-4293-a467-65bbd0bc1793",
   "metadata": {},
   "source": [
    "- Checking null values"
   ]
  },
  {
   "cell_type": "code",
   "execution_count": 33,
   "id": "2c871862",
   "metadata": {
    "papermill": {
     "duration": 0.04983,
     "end_time": "2024-10-17T06:00:48.698797",
     "exception": false,
     "start_time": "2024-10-17T06:00:48.648967",
     "status": "completed"
    },
    "tags": []
   },
   "outputs": [
    {
     "data": {
      "text/plain": [
       "Year of event                   0\n",
       "Event dates                     0\n",
       "Event name                      0\n",
       "Event distance/length           0\n",
       "Event number of finishers       0\n",
       "Athlete performance             0\n",
       "Athlete club                 8126\n",
       "Athlete country                 0\n",
       "Athlete year of birth        3300\n",
       "Athlete gender                  0\n",
       "Athlete age category         3300\n",
       "Athlete average speed           0\n",
       "Athlete ID                      0\n",
       "dtype: int64"
      ]
     },
     "execution_count": 33,
     "metadata": {},
     "output_type": "execute_result"
    }
   ],
   "source": [
    "df.isnull().sum()"
   ]
  },
  {
   "cell_type": "code",
   "execution_count": 35,
   "id": "91816657",
   "metadata": {
    "papermill": {
     "duration": 0.056162,
     "end_time": "2024-10-17T06:00:48.780280",
     "exception": false,
     "start_time": "2024-10-17T06:00:48.724118",
     "status": "completed"
    },
    "tags": []
   },
   "outputs": [
    {
     "data": {
      "text/html": [
       "<div>\n",
       "<style scoped>\n",
       "    .dataframe tbody tr th:only-of-type {\n",
       "        vertical-align: middle;\n",
       "    }\n",
       "\n",
       "    .dataframe tbody tr th {\n",
       "        vertical-align: top;\n",
       "    }\n",
       "\n",
       "    .dataframe thead th {\n",
       "        text-align: right;\n",
       "    }\n",
       "</style>\n",
       "<table border=\"1\" class=\"dataframe\">\n",
       "  <thead>\n",
       "    <tr style=\"text-align: right;\">\n",
       "      <th></th>\n",
       "      <th>Year of event</th>\n",
       "      <th>Event dates</th>\n",
       "      <th>Event name</th>\n",
       "      <th>Event distance/length</th>\n",
       "      <th>Event number of finishers</th>\n",
       "      <th>Athlete performance</th>\n",
       "      <th>Athlete club</th>\n",
       "      <th>Athlete country</th>\n",
       "      <th>Athlete year of birth</th>\n",
       "      <th>Athlete gender</th>\n",
       "      <th>Athlete age category</th>\n",
       "      <th>Athlete average speed</th>\n",
       "      <th>Athlete ID</th>\n",
       "    </tr>\n",
       "  </thead>\n",
       "  <tbody>\n",
       "    <tr>\n",
       "      <th>5843</th>\n",
       "      <td>2018</td>\n",
       "      <td>18.03.2018</td>\n",
       "      <td>TITI 50km Road Ultra Marathon (MAS)</td>\n",
       "      <td>50km</td>\n",
       "      <td>282</td>\n",
       "      <td>8:44:07 h</td>\n",
       "      <td>NaN</td>\n",
       "      <td>IND</td>\n",
       "      <td>1977.0</td>\n",
       "      <td>M</td>\n",
       "      <td>M40</td>\n",
       "      <td>5.724</td>\n",
       "      <td>5211</td>\n",
       "    </tr>\n",
       "    <tr>\n",
       "      <th>16245</th>\n",
       "      <td>2018</td>\n",
       "      <td>17.03.2018</td>\n",
       "      <td>Om Die Dam 50km (RSA)</td>\n",
       "      <td>50km</td>\n",
       "      <td>2491</td>\n",
       "      <td>5:18:55 h</td>\n",
       "      <td>Brackenfell Athletics ...</td>\n",
       "      <td>IND</td>\n",
       "      <td>1988.0</td>\n",
       "      <td>M</td>\n",
       "      <td>M23</td>\n",
       "      <td>9.407</td>\n",
       "      <td>15497</td>\n",
       "    </tr>\n",
       "    <tr>\n",
       "      <th>23416</th>\n",
       "      <td>2018</td>\n",
       "      <td>10.03.2018</td>\n",
       "      <td>North C Trail (BEL)</td>\n",
       "      <td>50km</td>\n",
       "      <td>192</td>\n",
       "      <td>8:04:30 h</td>\n",
       "      <td>NaN</td>\n",
       "      <td>IND</td>\n",
       "      <td>1990.0</td>\n",
       "      <td>F</td>\n",
       "      <td>W23</td>\n",
       "      <td>6.192</td>\n",
       "      <td>22117</td>\n",
       "    </tr>\n",
       "    <tr>\n",
       "      <th>24745</th>\n",
       "      <td>2018</td>\n",
       "      <td>10.03.2018</td>\n",
       "      <td>Crazy Desert Trail Race 50k (USA)</td>\n",
       "      <td>50km</td>\n",
       "      <td>59</td>\n",
       "      <td>6:21:38 h</td>\n",
       "      <td>*Dallas, TX</td>\n",
       "      <td>IND</td>\n",
       "      <td>1987.0</td>\n",
       "      <td>M</td>\n",
       "      <td>M23</td>\n",
       "      <td>7.861</td>\n",
       "      <td>23372</td>\n",
       "    </tr>\n",
       "    <tr>\n",
       "      <th>25299</th>\n",
       "      <td>2018</td>\n",
       "      <td>10.03.2018</td>\n",
       "      <td>Dirty Duo Trail Run (CAN)</td>\n",
       "      <td>50km</td>\n",
       "      <td>34</td>\n",
       "      <td>4:58:08 h</td>\n",
       "      <td>NaN</td>\n",
       "      <td>IND</td>\n",
       "      <td>1980.0</td>\n",
       "      <td>M</td>\n",
       "      <td>M35</td>\n",
       "      <td>10.063</td>\n",
       "      <td>23912</td>\n",
       "    </tr>\n",
       "  </tbody>\n",
       "</table>\n",
       "</div>"
      ],
      "text/plain": [
       "       Year of event Event dates                           Event name  \\\n",
       "5843            2018  18.03.2018  TITI 50km Road Ultra Marathon (MAS)   \n",
       "16245           2018  17.03.2018                Om Die Dam 50km (RSA)   \n",
       "23416           2018  10.03.2018                  North C Trail (BEL)   \n",
       "24745           2018  10.03.2018    Crazy Desert Trail Race 50k (USA)   \n",
       "25299           2018  10.03.2018            Dirty Duo Trail Run (CAN)   \n",
       "\n",
       "      Event distance/length  Event number of finishers Athlete performance  \\\n",
       "5843                   50km                        282           8:44:07 h   \n",
       "16245                  50km                       2491           5:18:55 h   \n",
       "23416                  50km                        192           8:04:30 h   \n",
       "24745                  50km                         59           6:21:38 h   \n",
       "25299                  50km                         34           4:58:08 h   \n",
       "\n",
       "                    Athlete club Athlete country  Athlete year of birth  \\\n",
       "5843                         NaN             IND                 1977.0   \n",
       "16245  Brackenfell Athletics ...             IND                 1988.0   \n",
       "23416                        NaN             IND                 1990.0   \n",
       "24745                *Dallas, TX             IND                 1987.0   \n",
       "25299                        NaN             IND                 1980.0   \n",
       "\n",
       "      Athlete gender Athlete age category Athlete average speed  Athlete ID  \n",
       "5843               M                  M40                 5.724        5211  \n",
       "16245              M                  M23                 9.407       15497  \n",
       "23416              F                  W23                 6.192       22117  \n",
       "24745              M                  M23                 7.861       23372  \n",
       "25299              M                  M35                10.063       23912  "
      ]
     },
     "execution_count": 35,
     "metadata": {},
     "output_type": "execute_result"
    }
   ],
   "source": [
    "df=df.dropna(subset=['Athlete year of birth'])\n",
    "df.head()"
   ]
  },
  {
   "cell_type": "code",
   "execution_count": 37,
   "id": "147608ce",
   "metadata": {
    "papermill": {
     "duration": 0.046549,
     "end_time": "2024-10-17T06:00:48.852214",
     "exception": false,
     "start_time": "2024-10-17T06:00:48.805665",
     "status": "completed"
    },
    "tags": []
   },
   "outputs": [
    {
     "data": {
      "text/plain": [
       "Year of event                   0\n",
       "Event dates                     0\n",
       "Event name                      0\n",
       "Event distance/length           0\n",
       "Event number of finishers       0\n",
       "Athlete performance             0\n",
       "Athlete club                 4899\n",
       "Athlete country                 0\n",
       "Athlete year of birth           0\n",
       "Athlete gender                  0\n",
       "Athlete age category            0\n",
       "Athlete average speed           0\n",
       "Athlete ID                      0\n",
       "dtype: int64"
      ]
     },
     "execution_count": 37,
     "metadata": {},
     "output_type": "execute_result"
    }
   ],
   "source": [
    "df.isnull().sum()"
   ]
  },
  {
   "cell_type": "markdown",
   "id": "d166bf70-625b-4ef2-a47e-a651061c59dc",
   "metadata": {},
   "source": [
    "- We will calculate the athlete's ages for analysis"
   ]
  },
  {
   "cell_type": "code",
   "execution_count": 39,
   "id": "26184806",
   "metadata": {
    "papermill": {
     "duration": 0.038664,
     "end_time": "2024-10-17T06:00:48.916411",
     "exception": false,
     "start_time": "2024-10-17T06:00:48.877747",
     "status": "completed"
    },
    "tags": []
   },
   "outputs": [
    {
     "data": {
      "text/plain": [
       "Year of event                  int64\n",
       "Event dates                   object\n",
       "Event name                    object\n",
       "Event distance/length         object\n",
       "Event number of finishers      int64\n",
       "Athlete performance           object\n",
       "Athlete club                  object\n",
       "Athlete country               object\n",
       "Athlete year of birth        float64\n",
       "Athlete gender                object\n",
       "Athlete age category          object\n",
       "Athlete average speed         object\n",
       "Athlete ID                     int64\n",
       "dtype: object"
      ]
     },
     "execution_count": 39,
     "metadata": {},
     "output_type": "execute_result"
    }
   ],
   "source": [
    "df.dtypes"
   ]
  },
  {
   "cell_type": "code",
   "execution_count": 41,
   "id": "9f218f3d",
   "metadata": {
    "papermill": {
     "duration": 0.042253,
     "end_time": "2024-10-17T06:00:48.985943",
     "exception": false,
     "start_time": "2024-10-17T06:00:48.943690",
     "status": "completed"
    },
    "scrolled": true,
    "tags": []
   },
   "outputs": [
    {
     "data": {
      "text/plain": [
       "Athlete year of birth\n",
       "1980.0    331\n",
       "1987.0    285\n",
       "1982.0    277\n",
       "1979.0    274\n",
       "1978.0    271\n",
       "         ... \n",
       "1933.0      1\n",
       "2010.0      1\n",
       "2003.0      1\n",
       "1928.0      1\n",
       "1936.0      1\n",
       "Name: count, Length: 61, dtype: int64"
      ]
     },
     "execution_count": 41,
     "metadata": {},
     "output_type": "execute_result"
    }
   ],
   "source": [
    "df['Athlete year of birth'].value_counts()"
   ]
  },
  {
   "cell_type": "markdown",
   "id": "9c5f646e-686e-4967-aefc-bd198e69e53b",
   "metadata": {},
   "source": [
    "## Standardizing Columns"
   ]
  },
  {
   "cell_type": "code",
   "execution_count": 43,
   "id": "8adf74b6",
   "metadata": {
    "papermill": {
     "duration": 0.116203,
     "end_time": "2024-10-17T06:00:49.127890",
     "exception": false,
     "start_time": "2024-10-17T06:00:49.011687",
     "status": "completed"
    },
    "tags": []
   },
   "outputs": [
    {
     "data": {
      "text/html": [
       "<div>\n",
       "<style scoped>\n",
       "    .dataframe tbody tr th:only-of-type {\n",
       "        vertical-align: middle;\n",
       "    }\n",
       "\n",
       "    .dataframe tbody tr th {\n",
       "        vertical-align: top;\n",
       "    }\n",
       "\n",
       "    .dataframe thead th {\n",
       "        text-align: right;\n",
       "    }\n",
       "</style>\n",
       "<table border=\"1\" class=\"dataframe\">\n",
       "  <thead>\n",
       "    <tr style=\"text-align: right;\">\n",
       "      <th></th>\n",
       "      <th>Year of event</th>\n",
       "      <th>Event dates</th>\n",
       "      <th>Event name</th>\n",
       "      <th>Event distance/length</th>\n",
       "      <th>Event number of finishers</th>\n",
       "      <th>Athlete performance</th>\n",
       "      <th>Athlete club</th>\n",
       "      <th>Athlete country</th>\n",
       "      <th>Athlete year of birth</th>\n",
       "      <th>Athlete gender</th>\n",
       "      <th>Athlete age category</th>\n",
       "      <th>Athlete average speed</th>\n",
       "      <th>Athlete ID</th>\n",
       "    </tr>\n",
       "  </thead>\n",
       "  <tbody>\n",
       "    <tr>\n",
       "      <th>5843</th>\n",
       "      <td>2018</td>\n",
       "      <td>18.03.2018</td>\n",
       "      <td>TITI 50km Road Ultra Marathon (MAS)</td>\n",
       "      <td>50km</td>\n",
       "      <td>282</td>\n",
       "      <td>8:44:07 h</td>\n",
       "      <td>NaN</td>\n",
       "      <td>IND</td>\n",
       "      <td>1977</td>\n",
       "      <td>M</td>\n",
       "      <td>M40</td>\n",
       "      <td>5.724</td>\n",
       "      <td>5211</td>\n",
       "    </tr>\n",
       "    <tr>\n",
       "      <th>16245</th>\n",
       "      <td>2018</td>\n",
       "      <td>17.03.2018</td>\n",
       "      <td>Om Die Dam 50km (RSA)</td>\n",
       "      <td>50km</td>\n",
       "      <td>2491</td>\n",
       "      <td>5:18:55 h</td>\n",
       "      <td>Brackenfell Athletics ...</td>\n",
       "      <td>IND</td>\n",
       "      <td>1988</td>\n",
       "      <td>M</td>\n",
       "      <td>M23</td>\n",
       "      <td>9.407</td>\n",
       "      <td>15497</td>\n",
       "    </tr>\n",
       "    <tr>\n",
       "      <th>23416</th>\n",
       "      <td>2018</td>\n",
       "      <td>10.03.2018</td>\n",
       "      <td>North C Trail (BEL)</td>\n",
       "      <td>50km</td>\n",
       "      <td>192</td>\n",
       "      <td>8:04:30 h</td>\n",
       "      <td>NaN</td>\n",
       "      <td>IND</td>\n",
       "      <td>1990</td>\n",
       "      <td>F</td>\n",
       "      <td>W23</td>\n",
       "      <td>6.192</td>\n",
       "      <td>22117</td>\n",
       "    </tr>\n",
       "    <tr>\n",
       "      <th>24745</th>\n",
       "      <td>2018</td>\n",
       "      <td>10.03.2018</td>\n",
       "      <td>Crazy Desert Trail Race 50k (USA)</td>\n",
       "      <td>50km</td>\n",
       "      <td>59</td>\n",
       "      <td>6:21:38 h</td>\n",
       "      <td>*Dallas, TX</td>\n",
       "      <td>IND</td>\n",
       "      <td>1987</td>\n",
       "      <td>M</td>\n",
       "      <td>M23</td>\n",
       "      <td>7.861</td>\n",
       "      <td>23372</td>\n",
       "    </tr>\n",
       "    <tr>\n",
       "      <th>25299</th>\n",
       "      <td>2018</td>\n",
       "      <td>10.03.2018</td>\n",
       "      <td>Dirty Duo Trail Run (CAN)</td>\n",
       "      <td>50km</td>\n",
       "      <td>34</td>\n",
       "      <td>4:58:08 h</td>\n",
       "      <td>NaN</td>\n",
       "      <td>IND</td>\n",
       "      <td>1980</td>\n",
       "      <td>M</td>\n",
       "      <td>M35</td>\n",
       "      <td>10.063</td>\n",
       "      <td>23912</td>\n",
       "    </tr>\n",
       "  </tbody>\n",
       "</table>\n",
       "</div>"
      ],
      "text/plain": [
       "       Year of event Event dates                           Event name  \\\n",
       "5843            2018  18.03.2018  TITI 50km Road Ultra Marathon (MAS)   \n",
       "16245           2018  17.03.2018                Om Die Dam 50km (RSA)   \n",
       "23416           2018  10.03.2018                  North C Trail (BEL)   \n",
       "24745           2018  10.03.2018    Crazy Desert Trail Race 50k (USA)   \n",
       "25299           2018  10.03.2018            Dirty Duo Trail Run (CAN)   \n",
       "\n",
       "      Event distance/length  Event number of finishers Athlete performance  \\\n",
       "5843                   50km                        282           8:44:07 h   \n",
       "16245                  50km                       2491           5:18:55 h   \n",
       "23416                  50km                        192           8:04:30 h   \n",
       "24745                  50km                         59           6:21:38 h   \n",
       "25299                  50km                         34           4:58:08 h   \n",
       "\n",
       "                    Athlete club Athlete country  Athlete year of birth  \\\n",
       "5843                         NaN             IND                   1977   \n",
       "16245  Brackenfell Athletics ...             IND                   1988   \n",
       "23416                        NaN             IND                   1990   \n",
       "24745                *Dallas, TX             IND                   1987   \n",
       "25299                        NaN             IND                   1980   \n",
       "\n",
       "      Athlete gender Athlete age category Athlete average speed  Athlete ID  \n",
       "5843               M                  M40                 5.724        5211  \n",
       "16245              M                  M23                 9.407       15497  \n",
       "23416              F                  W23                 6.192       22117  \n",
       "24745              M                  M23                 7.861       23372  \n",
       "25299              M                  M35                10.063       23912  "
      ]
     },
     "execution_count": 43,
     "metadata": {},
     "output_type": "execute_result"
    }
   ],
   "source": [
    "df['Athlete year of birth']=df['Athlete year of birth'].astype('int64')\n",
    "df.head()"
   ]
  },
  {
   "cell_type": "markdown",
   "id": "b24b6304-4d06-4cef-a8f5-fcb926c39569",
   "metadata": {},
   "source": [
    "- We will calculate the athlete's age and add it as a column to the dataset."
   ]
  },
  {
   "cell_type": "code",
   "execution_count": 45,
   "id": "8c690a5d",
   "metadata": {
    "papermill": {
     "duration": 0.056055,
     "end_time": "2024-10-17T06:00:49.211317",
     "exception": false,
     "start_time": "2024-10-17T06:00:49.155262",
     "status": "completed"
    },
    "tags": []
   },
   "outputs": [
    {
     "data": {
      "text/html": [
       "<div>\n",
       "<style scoped>\n",
       "    .dataframe tbody tr th:only-of-type {\n",
       "        vertical-align: middle;\n",
       "    }\n",
       "\n",
       "    .dataframe tbody tr th {\n",
       "        vertical-align: top;\n",
       "    }\n",
       "\n",
       "    .dataframe thead th {\n",
       "        text-align: right;\n",
       "    }\n",
       "</style>\n",
       "<table border=\"1\" class=\"dataframe\">\n",
       "  <thead>\n",
       "    <tr style=\"text-align: right;\">\n",
       "      <th></th>\n",
       "      <th>Year of event</th>\n",
       "      <th>Event dates</th>\n",
       "      <th>Event name</th>\n",
       "      <th>Event distance/length</th>\n",
       "      <th>Event number of finishers</th>\n",
       "      <th>Athlete performance</th>\n",
       "      <th>Athlete club</th>\n",
       "      <th>Athlete country</th>\n",
       "      <th>Athlete year of birth</th>\n",
       "      <th>Athlete gender</th>\n",
       "      <th>Athlete age category</th>\n",
       "      <th>Athlete average speed</th>\n",
       "      <th>Athlete ID</th>\n",
       "      <th>Athlete_Age</th>\n",
       "    </tr>\n",
       "  </thead>\n",
       "  <tbody>\n",
       "    <tr>\n",
       "      <th>5843</th>\n",
       "      <td>2018</td>\n",
       "      <td>18.03.2018</td>\n",
       "      <td>TITI 50km Road Ultra Marathon (MAS)</td>\n",
       "      <td>50km</td>\n",
       "      <td>282</td>\n",
       "      <td>8:44:07 h</td>\n",
       "      <td>NaN</td>\n",
       "      <td>IND</td>\n",
       "      <td>1977</td>\n",
       "      <td>M</td>\n",
       "      <td>M40</td>\n",
       "      <td>5.724</td>\n",
       "      <td>5211</td>\n",
       "      <td>41</td>\n",
       "    </tr>\n",
       "    <tr>\n",
       "      <th>16245</th>\n",
       "      <td>2018</td>\n",
       "      <td>17.03.2018</td>\n",
       "      <td>Om Die Dam 50km (RSA)</td>\n",
       "      <td>50km</td>\n",
       "      <td>2491</td>\n",
       "      <td>5:18:55 h</td>\n",
       "      <td>Brackenfell Athletics ...</td>\n",
       "      <td>IND</td>\n",
       "      <td>1988</td>\n",
       "      <td>M</td>\n",
       "      <td>M23</td>\n",
       "      <td>9.407</td>\n",
       "      <td>15497</td>\n",
       "      <td>30</td>\n",
       "    </tr>\n",
       "    <tr>\n",
       "      <th>23416</th>\n",
       "      <td>2018</td>\n",
       "      <td>10.03.2018</td>\n",
       "      <td>North C Trail (BEL)</td>\n",
       "      <td>50km</td>\n",
       "      <td>192</td>\n",
       "      <td>8:04:30 h</td>\n",
       "      <td>NaN</td>\n",
       "      <td>IND</td>\n",
       "      <td>1990</td>\n",
       "      <td>F</td>\n",
       "      <td>W23</td>\n",
       "      <td>6.192</td>\n",
       "      <td>22117</td>\n",
       "      <td>28</td>\n",
       "    </tr>\n",
       "    <tr>\n",
       "      <th>24745</th>\n",
       "      <td>2018</td>\n",
       "      <td>10.03.2018</td>\n",
       "      <td>Crazy Desert Trail Race 50k (USA)</td>\n",
       "      <td>50km</td>\n",
       "      <td>59</td>\n",
       "      <td>6:21:38 h</td>\n",
       "      <td>*Dallas, TX</td>\n",
       "      <td>IND</td>\n",
       "      <td>1987</td>\n",
       "      <td>M</td>\n",
       "      <td>M23</td>\n",
       "      <td>7.861</td>\n",
       "      <td>23372</td>\n",
       "      <td>31</td>\n",
       "    </tr>\n",
       "    <tr>\n",
       "      <th>25299</th>\n",
       "      <td>2018</td>\n",
       "      <td>10.03.2018</td>\n",
       "      <td>Dirty Duo Trail Run (CAN)</td>\n",
       "      <td>50km</td>\n",
       "      <td>34</td>\n",
       "      <td>4:58:08 h</td>\n",
       "      <td>NaN</td>\n",
       "      <td>IND</td>\n",
       "      <td>1980</td>\n",
       "      <td>M</td>\n",
       "      <td>M35</td>\n",
       "      <td>10.063</td>\n",
       "      <td>23912</td>\n",
       "      <td>38</td>\n",
       "    </tr>\n",
       "  </tbody>\n",
       "</table>\n",
       "</div>"
      ],
      "text/plain": [
       "       Year of event Event dates                           Event name  \\\n",
       "5843            2018  18.03.2018  TITI 50km Road Ultra Marathon (MAS)   \n",
       "16245           2018  17.03.2018                Om Die Dam 50km (RSA)   \n",
       "23416           2018  10.03.2018                  North C Trail (BEL)   \n",
       "24745           2018  10.03.2018    Crazy Desert Trail Race 50k (USA)   \n",
       "25299           2018  10.03.2018            Dirty Duo Trail Run (CAN)   \n",
       "\n",
       "      Event distance/length  Event number of finishers Athlete performance  \\\n",
       "5843                   50km                        282           8:44:07 h   \n",
       "16245                  50km                       2491           5:18:55 h   \n",
       "23416                  50km                        192           8:04:30 h   \n",
       "24745                  50km                         59           6:21:38 h   \n",
       "25299                  50km                         34           4:58:08 h   \n",
       "\n",
       "                    Athlete club Athlete country  Athlete year of birth  \\\n",
       "5843                         NaN             IND                   1977   \n",
       "16245  Brackenfell Athletics ...             IND                   1988   \n",
       "23416                        NaN             IND                   1990   \n",
       "24745                *Dallas, TX             IND                   1987   \n",
       "25299                        NaN             IND                   1980   \n",
       "\n",
       "      Athlete gender Athlete age category Athlete average speed  Athlete ID  \\\n",
       "5843               M                  M40                 5.724        5211   \n",
       "16245              M                  M23                 9.407       15497   \n",
       "23416              F                  W23                 6.192       22117   \n",
       "24745              M                  M23                 7.861       23372   \n",
       "25299              M                  M35                10.063       23912   \n",
       "\n",
       "       Athlete_Age  \n",
       "5843            41  \n",
       "16245           30  \n",
       "23416           28  \n",
       "24745           31  \n",
       "25299           38  "
      ]
     },
     "execution_count": 45,
     "metadata": {},
     "output_type": "execute_result"
    }
   ],
   "source": [
    "df['Athlete_Age']=df['Year of event']-df['Athlete year of birth']\n",
    "df.head()"
   ]
  },
  {
   "cell_type": "markdown",
   "id": "0c3a9605-b683-44a8-83bf-069843f802fe",
   "metadata": {},
   "source": [
    "- Removing 'h' from **Athlete performance** column"
   ]
  },
  {
   "cell_type": "code",
   "execution_count": 50,
   "id": "ec1a1c17",
   "metadata": {
    "papermill": {
     "duration": 0.069757,
     "end_time": "2024-10-17T06:00:49.308501",
     "exception": false,
     "start_time": "2024-10-17T06:00:49.238744",
     "status": "completed"
    },
    "tags": []
   },
   "outputs": [
    {
     "data": {
      "text/html": [
       "<div>\n",
       "<style scoped>\n",
       "    .dataframe tbody tr th:only-of-type {\n",
       "        vertical-align: middle;\n",
       "    }\n",
       "\n",
       "    .dataframe tbody tr th {\n",
       "        vertical-align: top;\n",
       "    }\n",
       "\n",
       "    .dataframe thead th {\n",
       "        text-align: right;\n",
       "    }\n",
       "</style>\n",
       "<table border=\"1\" class=\"dataframe\">\n",
       "  <thead>\n",
       "    <tr style=\"text-align: right;\">\n",
       "      <th></th>\n",
       "      <th>Year of event</th>\n",
       "      <th>Event dates</th>\n",
       "      <th>Event name</th>\n",
       "      <th>Event distance/length</th>\n",
       "      <th>Event number of finishers</th>\n",
       "      <th>Athlete performance</th>\n",
       "      <th>Athlete club</th>\n",
       "      <th>Athlete country</th>\n",
       "      <th>Athlete year of birth</th>\n",
       "      <th>Athlete gender</th>\n",
       "      <th>Athlete age category</th>\n",
       "      <th>Athlete average speed</th>\n",
       "      <th>Athlete ID</th>\n",
       "      <th>Athlete_Age</th>\n",
       "    </tr>\n",
       "  </thead>\n",
       "  <tbody>\n",
       "    <tr>\n",
       "      <th>5843</th>\n",
       "      <td>2018</td>\n",
       "      <td>18.03.2018</td>\n",
       "      <td>TITI 50km Road Ultra Marathon (MAS)</td>\n",
       "      <td>50km</td>\n",
       "      <td>282</td>\n",
       "      <td>8:44:07</td>\n",
       "      <td>NaN</td>\n",
       "      <td>IND</td>\n",
       "      <td>1977</td>\n",
       "      <td>M</td>\n",
       "      <td>M40</td>\n",
       "      <td>5.724</td>\n",
       "      <td>5211</td>\n",
       "      <td>41</td>\n",
       "    </tr>\n",
       "    <tr>\n",
       "      <th>16245</th>\n",
       "      <td>2018</td>\n",
       "      <td>17.03.2018</td>\n",
       "      <td>Om Die Dam 50km (RSA)</td>\n",
       "      <td>50km</td>\n",
       "      <td>2491</td>\n",
       "      <td>5:18:55</td>\n",
       "      <td>Brackenfell Athletics ...</td>\n",
       "      <td>IND</td>\n",
       "      <td>1988</td>\n",
       "      <td>M</td>\n",
       "      <td>M23</td>\n",
       "      <td>9.407</td>\n",
       "      <td>15497</td>\n",
       "      <td>30</td>\n",
       "    </tr>\n",
       "    <tr>\n",
       "      <th>23416</th>\n",
       "      <td>2018</td>\n",
       "      <td>10.03.2018</td>\n",
       "      <td>North C Trail (BEL)</td>\n",
       "      <td>50km</td>\n",
       "      <td>192</td>\n",
       "      <td>8:04:30</td>\n",
       "      <td>NaN</td>\n",
       "      <td>IND</td>\n",
       "      <td>1990</td>\n",
       "      <td>F</td>\n",
       "      <td>W23</td>\n",
       "      <td>6.192</td>\n",
       "      <td>22117</td>\n",
       "      <td>28</td>\n",
       "    </tr>\n",
       "    <tr>\n",
       "      <th>24745</th>\n",
       "      <td>2018</td>\n",
       "      <td>10.03.2018</td>\n",
       "      <td>Crazy Desert Trail Race 50k (USA)</td>\n",
       "      <td>50km</td>\n",
       "      <td>59</td>\n",
       "      <td>6:21:38</td>\n",
       "      <td>*Dallas, TX</td>\n",
       "      <td>IND</td>\n",
       "      <td>1987</td>\n",
       "      <td>M</td>\n",
       "      <td>M23</td>\n",
       "      <td>7.861</td>\n",
       "      <td>23372</td>\n",
       "      <td>31</td>\n",
       "    </tr>\n",
       "    <tr>\n",
       "      <th>25299</th>\n",
       "      <td>2018</td>\n",
       "      <td>10.03.2018</td>\n",
       "      <td>Dirty Duo Trail Run (CAN)</td>\n",
       "      <td>50km</td>\n",
       "      <td>34</td>\n",
       "      <td>4:58:08</td>\n",
       "      <td>NaN</td>\n",
       "      <td>IND</td>\n",
       "      <td>1980</td>\n",
       "      <td>M</td>\n",
       "      <td>M35</td>\n",
       "      <td>10.063</td>\n",
       "      <td>23912</td>\n",
       "      <td>38</td>\n",
       "    </tr>\n",
       "  </tbody>\n",
       "</table>\n",
       "</div>"
      ],
      "text/plain": [
       "       Year of event Event dates                           Event name  \\\n",
       "5843            2018  18.03.2018  TITI 50km Road Ultra Marathon (MAS)   \n",
       "16245           2018  17.03.2018                Om Die Dam 50km (RSA)   \n",
       "23416           2018  10.03.2018                  North C Trail (BEL)   \n",
       "24745           2018  10.03.2018    Crazy Desert Trail Race 50k (USA)   \n",
       "25299           2018  10.03.2018            Dirty Duo Trail Run (CAN)   \n",
       "\n",
       "      Event distance/length  Event number of finishers Athlete performance  \\\n",
       "5843                   50km                        282             8:44:07   \n",
       "16245                  50km                       2491             5:18:55   \n",
       "23416                  50km                        192             8:04:30   \n",
       "24745                  50km                         59             6:21:38   \n",
       "25299                  50km                         34             4:58:08   \n",
       "\n",
       "                    Athlete club Athlete country  Athlete year of birth  \\\n",
       "5843                         NaN             IND                   1977   \n",
       "16245  Brackenfell Athletics ...             IND                   1988   \n",
       "23416                        NaN             IND                   1990   \n",
       "24745                *Dallas, TX             IND                   1987   \n",
       "25299                        NaN             IND                   1980   \n",
       "\n",
       "      Athlete gender Athlete age category Athlete average speed  Athlete ID  \\\n",
       "5843               M                  M40                 5.724        5211   \n",
       "16245              M                  M23                 9.407       15497   \n",
       "23416              F                  W23                 6.192       22117   \n",
       "24745              M                  M23                 7.861       23372   \n",
       "25299              M                  M35                10.063       23912   \n",
       "\n",
       "       Athlete_Age  \n",
       "5843            41  \n",
       "16245           30  \n",
       "23416           28  \n",
       "24745           31  \n",
       "25299           38  "
      ]
     },
     "execution_count": 50,
     "metadata": {},
     "output_type": "execute_result"
    }
   ],
   "source": [
    "# removing the 'h' from the Athlete performance\n",
    "df['Athlete performance']=df['Athlete performance'].str.split(' ').str.get(0)\n",
    "df.head()"
   ]
  },
  {
   "cell_type": "code",
   "execution_count": 52,
   "id": "67bd2033",
   "metadata": {
    "papermill": {
     "duration": 0.053825,
     "end_time": "2024-10-17T06:00:49.390471",
     "exception": false,
     "start_time": "2024-10-17T06:00:49.336646",
     "status": "completed"
    },
    "tags": []
   },
   "outputs": [],
   "source": [
    "df=df.drop_duplicates()"
   ]
  },
  {
   "cell_type": "code",
   "execution_count": 54,
   "id": "c6efdd71",
   "metadata": {
    "papermill": {
     "duration": 0.040661,
     "end_time": "2024-10-17T06:00:49.459147",
     "exception": false,
     "start_time": "2024-10-17T06:00:49.418486",
     "status": "completed"
    },
    "tags": []
   },
   "outputs": [],
   "source": [
    "df=df.reset_index()"
   ]
  },
  {
   "cell_type": "code",
   "execution_count": 56,
   "id": "169ef405",
   "metadata": {
    "papermill": {
     "duration": 0.05908,
     "end_time": "2024-10-17T06:00:49.548408",
     "exception": false,
     "start_time": "2024-10-17T06:00:49.489328",
     "status": "completed"
    },
    "tags": []
   },
   "outputs": [
    {
     "name": "stdout",
     "output_type": "stream",
     "text": [
      "<class 'pandas.core.frame.DataFrame'>\n",
      "RangeIndex: 6357 entries, 0 to 6356\n",
      "Data columns (total 15 columns):\n",
      " #   Column                     Non-Null Count  Dtype \n",
      "---  ------                     --------------  ----- \n",
      " 0   index                      6357 non-null   int64 \n",
      " 1   Year of event              6357 non-null   int64 \n",
      " 2   Event dates                6357 non-null   object\n",
      " 3   Event name                 6357 non-null   object\n",
      " 4   Event distance/length      6357 non-null   object\n",
      " 5   Event number of finishers  6357 non-null   int64 \n",
      " 6   Athlete performance        6357 non-null   object\n",
      " 7   Athlete club               1458 non-null   object\n",
      " 8   Athlete country            6357 non-null   object\n",
      " 9   Athlete year of birth      6357 non-null   int64 \n",
      " 10  Athlete gender             6357 non-null   object\n",
      " 11  Athlete age category       6357 non-null   object\n",
      " 12  Athlete average speed      6357 non-null   object\n",
      " 13  Athlete ID                 6357 non-null   int64 \n",
      " 14  Athlete_Age                6357 non-null   int64 \n",
      "dtypes: int64(6), object(9)\n",
      "memory usage: 745.1+ KB\n"
     ]
    }
   ],
   "source": [
    "df.info()"
   ]
  },
  {
   "cell_type": "code",
   "execution_count": 60,
   "id": "b2070fc4",
   "metadata": {
    "papermill": {
     "duration": 0.040204,
     "end_time": "2024-10-17T06:00:49.616802",
     "exception": false,
     "start_time": "2024-10-17T06:00:49.576598",
     "status": "completed"
    },
    "tags": []
   },
   "outputs": [],
   "source": [
    "df['Athlete average speed']=df['Athlete average speed'].astype('float64')"
   ]
  },
  {
   "cell_type": "code",
   "execution_count": 64,
   "id": "d2c52b65",
   "metadata": {
    "papermill": {
     "duration": 0.058881,
     "end_time": "2024-10-17T06:00:49.703945",
     "exception": false,
     "start_time": "2024-10-17T06:00:49.645064",
     "status": "completed"
    },
    "tags": []
   },
   "outputs": [
    {
     "data": {
      "text/html": [
       "<div>\n",
       "<style scoped>\n",
       "    .dataframe tbody tr th:only-of-type {\n",
       "        vertical-align: middle;\n",
       "    }\n",
       "\n",
       "    .dataframe tbody tr th {\n",
       "        vertical-align: top;\n",
       "    }\n",
       "\n",
       "    .dataframe thead th {\n",
       "        text-align: right;\n",
       "    }\n",
       "</style>\n",
       "<table border=\"1\" class=\"dataframe\">\n",
       "  <thead>\n",
       "    <tr style=\"text-align: right;\">\n",
       "      <th></th>\n",
       "      <th>index</th>\n",
       "      <th>Year of event</th>\n",
       "      <th>Event dates</th>\n",
       "      <th>Event name</th>\n",
       "      <th>Event distance/length</th>\n",
       "      <th>Event number of finishers</th>\n",
       "      <th>Athlete performance</th>\n",
       "      <th>Athlete club</th>\n",
       "      <th>Athlete country</th>\n",
       "      <th>Athlete year of birth</th>\n",
       "      <th>Athlete gender</th>\n",
       "      <th>Athlete age category</th>\n",
       "      <th>Athlete average speed</th>\n",
       "      <th>Athlete ID</th>\n",
       "      <th>Athlete_Age</th>\n",
       "    </tr>\n",
       "  </thead>\n",
       "  <tbody>\n",
       "    <tr>\n",
       "      <th>0</th>\n",
       "      <td>5843</td>\n",
       "      <td>2018</td>\n",
       "      <td>18.03.2018</td>\n",
       "      <td>TITI 50km Road Ultra Marathon (MAS)</td>\n",
       "      <td>50km</td>\n",
       "      <td>282</td>\n",
       "      <td>8:44:07</td>\n",
       "      <td>NaN</td>\n",
       "      <td>IND</td>\n",
       "      <td>1977</td>\n",
       "      <td>M</td>\n",
       "      <td>M40</td>\n",
       "      <td>5.724</td>\n",
       "      <td>5211</td>\n",
       "      <td>41</td>\n",
       "    </tr>\n",
       "    <tr>\n",
       "      <th>1</th>\n",
       "      <td>16245</td>\n",
       "      <td>2018</td>\n",
       "      <td>17.03.2018</td>\n",
       "      <td>Om Die Dam 50km (RSA)</td>\n",
       "      <td>50km</td>\n",
       "      <td>2491</td>\n",
       "      <td>5:18:55</td>\n",
       "      <td>Brackenfell Athletics ...</td>\n",
       "      <td>IND</td>\n",
       "      <td>1988</td>\n",
       "      <td>M</td>\n",
       "      <td>M23</td>\n",
       "      <td>9.407</td>\n",
       "      <td>15497</td>\n",
       "      <td>30</td>\n",
       "    </tr>\n",
       "    <tr>\n",
       "      <th>2</th>\n",
       "      <td>23416</td>\n",
       "      <td>2018</td>\n",
       "      <td>10.03.2018</td>\n",
       "      <td>North C Trail (BEL)</td>\n",
       "      <td>50km</td>\n",
       "      <td>192</td>\n",
       "      <td>8:04:30</td>\n",
       "      <td>NaN</td>\n",
       "      <td>IND</td>\n",
       "      <td>1990</td>\n",
       "      <td>F</td>\n",
       "      <td>W23</td>\n",
       "      <td>6.192</td>\n",
       "      <td>22117</td>\n",
       "      <td>28</td>\n",
       "    </tr>\n",
       "    <tr>\n",
       "      <th>3</th>\n",
       "      <td>24745</td>\n",
       "      <td>2018</td>\n",
       "      <td>10.03.2018</td>\n",
       "      <td>Crazy Desert Trail Race 50k (USA)</td>\n",
       "      <td>50km</td>\n",
       "      <td>59</td>\n",
       "      <td>6:21:38</td>\n",
       "      <td>*Dallas, TX</td>\n",
       "      <td>IND</td>\n",
       "      <td>1987</td>\n",
       "      <td>M</td>\n",
       "      <td>M23</td>\n",
       "      <td>7.861</td>\n",
       "      <td>23372</td>\n",
       "      <td>31</td>\n",
       "    </tr>\n",
       "    <tr>\n",
       "      <th>4</th>\n",
       "      <td>25299</td>\n",
       "      <td>2018</td>\n",
       "      <td>10.03.2018</td>\n",
       "      <td>Dirty Duo Trail Run (CAN)</td>\n",
       "      <td>50km</td>\n",
       "      <td>34</td>\n",
       "      <td>4:58:08</td>\n",
       "      <td>NaN</td>\n",
       "      <td>IND</td>\n",
       "      <td>1980</td>\n",
       "      <td>M</td>\n",
       "      <td>M35</td>\n",
       "      <td>10.063</td>\n",
       "      <td>23912</td>\n",
       "      <td>38</td>\n",
       "    </tr>\n",
       "  </tbody>\n",
       "</table>\n",
       "</div>"
      ],
      "text/plain": [
       "   index  Year of event Event dates                           Event name  \\\n",
       "0   5843           2018  18.03.2018  TITI 50km Road Ultra Marathon (MAS)   \n",
       "1  16245           2018  17.03.2018                Om Die Dam 50km (RSA)   \n",
       "2  23416           2018  10.03.2018                  North C Trail (BEL)   \n",
       "3  24745           2018  10.03.2018    Crazy Desert Trail Race 50k (USA)   \n",
       "4  25299           2018  10.03.2018            Dirty Duo Trail Run (CAN)   \n",
       "\n",
       "  Event distance/length  Event number of finishers Athlete performance  \\\n",
       "0                  50km                        282             8:44:07   \n",
       "1                  50km                       2491             5:18:55   \n",
       "2                  50km                        192             8:04:30   \n",
       "3                  50km                         59             6:21:38   \n",
       "4                  50km                         34             4:58:08   \n",
       "\n",
       "                Athlete club Athlete country  Athlete year of birth  \\\n",
       "0                        NaN             IND                   1977   \n",
       "1  Brackenfell Athletics ...             IND                   1988   \n",
       "2                        NaN             IND                   1990   \n",
       "3                *Dallas, TX             IND                   1987   \n",
       "4                        NaN             IND                   1980   \n",
       "\n",
       "  Athlete gender Athlete age category  Athlete average speed  Athlete ID  \\\n",
       "0              M                  M40                  5.724        5211   \n",
       "1              M                  M23                  9.407       15497   \n",
       "2              F                  W23                  6.192       22117   \n",
       "3              M                  M23                  7.861       23372   \n",
       "4              M                  M35                 10.063       23912   \n",
       "\n",
       "   Athlete_Age  \n",
       "0           41  \n",
       "1           30  \n",
       "2           28  \n",
       "3           31  \n",
       "4           38  "
      ]
     },
     "execution_count": 64,
     "metadata": {},
     "output_type": "execute_result"
    }
   ],
   "source": [
    "df = df[df['Athlete average speed'] < 20]\n",
    "df.head()"
   ]
  },
  {
   "cell_type": "code",
   "execution_count": 66,
   "id": "91698c79",
   "metadata": {
    "papermill": {
     "duration": 0.039916,
     "end_time": "2024-10-17T06:00:49.772399",
     "exception": false,
     "start_time": "2024-10-17T06:00:49.732483",
     "status": "completed"
    },
    "tags": []
   },
   "outputs": [],
   "source": [
    "df=df.drop(['Athlete club','Athlete year of birth'],axis=1)"
   ]
  },
  {
   "cell_type": "markdown",
   "id": "27408310-3e0b-4acd-9405-4d90e6a21cae",
   "metadata": {},
   "source": [
    "- This is the final version of dataset we will use for analysis"
   ]
  },
  {
   "cell_type": "code",
   "execution_count": 71,
   "id": "25f3d6fc",
   "metadata": {
    "papermill": {
     "duration": 0.055889,
     "end_time": "2024-10-17T06:00:49.856586",
     "exception": false,
     "start_time": "2024-10-17T06:00:49.800697",
     "status": "completed"
    },
    "tags": []
   },
   "outputs": [
    {
     "data": {
      "text/plain": [
       "index                        0\n",
       "Year of event                0\n",
       "Event dates                  0\n",
       "Event name                   0\n",
       "Event distance/length        0\n",
       "Event number of finishers    0\n",
       "Athlete performance          0\n",
       "Athlete country              0\n",
       "Athlete gender               0\n",
       "Athlete age category         0\n",
       "Athlete average speed        0\n",
       "Athlete ID                   0\n",
       "Athlete_Age                  0\n",
       "dtype: int64"
      ]
     },
     "execution_count": 71,
     "metadata": {},
     "output_type": "execute_result"
    }
   ],
   "source": [
    "df.isnull().sum()"
   ]
  },
  {
   "cell_type": "code",
   "execution_count": 73,
   "id": "36a3892b-2909-4fdf-be3a-858b4c8a1032",
   "metadata": {},
   "outputs": [
    {
     "data": {
      "text/html": [
       "<div>\n",
       "<style scoped>\n",
       "    .dataframe tbody tr th:only-of-type {\n",
       "        vertical-align: middle;\n",
       "    }\n",
       "\n",
       "    .dataframe tbody tr th {\n",
       "        vertical-align: top;\n",
       "    }\n",
       "\n",
       "    .dataframe thead th {\n",
       "        text-align: right;\n",
       "    }\n",
       "</style>\n",
       "<table border=\"1\" class=\"dataframe\">\n",
       "  <thead>\n",
       "    <tr style=\"text-align: right;\">\n",
       "      <th></th>\n",
       "      <th>index</th>\n",
       "      <th>Year of event</th>\n",
       "      <th>Event dates</th>\n",
       "      <th>Event name</th>\n",
       "      <th>Event distance/length</th>\n",
       "      <th>Event number of finishers</th>\n",
       "      <th>Athlete performance</th>\n",
       "      <th>Athlete country</th>\n",
       "      <th>Athlete gender</th>\n",
       "      <th>Athlete age category</th>\n",
       "      <th>Athlete average speed</th>\n",
       "      <th>Athlete ID</th>\n",
       "      <th>Athlete_Age</th>\n",
       "    </tr>\n",
       "  </thead>\n",
       "  <tbody>\n",
       "    <tr>\n",
       "      <th>0</th>\n",
       "      <td>5843</td>\n",
       "      <td>2018</td>\n",
       "      <td>18.03.2018</td>\n",
       "      <td>TITI 50km Road Ultra Marathon (MAS)</td>\n",
       "      <td>50km</td>\n",
       "      <td>282</td>\n",
       "      <td>8:44:07</td>\n",
       "      <td>IND</td>\n",
       "      <td>M</td>\n",
       "      <td>M40</td>\n",
       "      <td>5.724</td>\n",
       "      <td>5211</td>\n",
       "      <td>41</td>\n",
       "    </tr>\n",
       "    <tr>\n",
       "      <th>1</th>\n",
       "      <td>16245</td>\n",
       "      <td>2018</td>\n",
       "      <td>17.03.2018</td>\n",
       "      <td>Om Die Dam 50km (RSA)</td>\n",
       "      <td>50km</td>\n",
       "      <td>2491</td>\n",
       "      <td>5:18:55</td>\n",
       "      <td>IND</td>\n",
       "      <td>M</td>\n",
       "      <td>M23</td>\n",
       "      <td>9.407</td>\n",
       "      <td>15497</td>\n",
       "      <td>30</td>\n",
       "    </tr>\n",
       "    <tr>\n",
       "      <th>2</th>\n",
       "      <td>23416</td>\n",
       "      <td>2018</td>\n",
       "      <td>10.03.2018</td>\n",
       "      <td>North C Trail (BEL)</td>\n",
       "      <td>50km</td>\n",
       "      <td>192</td>\n",
       "      <td>8:04:30</td>\n",
       "      <td>IND</td>\n",
       "      <td>F</td>\n",
       "      <td>W23</td>\n",
       "      <td>6.192</td>\n",
       "      <td>22117</td>\n",
       "      <td>28</td>\n",
       "    </tr>\n",
       "    <tr>\n",
       "      <th>3</th>\n",
       "      <td>24745</td>\n",
       "      <td>2018</td>\n",
       "      <td>10.03.2018</td>\n",
       "      <td>Crazy Desert Trail Race 50k (USA)</td>\n",
       "      <td>50km</td>\n",
       "      <td>59</td>\n",
       "      <td>6:21:38</td>\n",
       "      <td>IND</td>\n",
       "      <td>M</td>\n",
       "      <td>M23</td>\n",
       "      <td>7.861</td>\n",
       "      <td>23372</td>\n",
       "      <td>31</td>\n",
       "    </tr>\n",
       "    <tr>\n",
       "      <th>4</th>\n",
       "      <td>25299</td>\n",
       "      <td>2018</td>\n",
       "      <td>10.03.2018</td>\n",
       "      <td>Dirty Duo Trail Run (CAN)</td>\n",
       "      <td>50km</td>\n",
       "      <td>34</td>\n",
       "      <td>4:58:08</td>\n",
       "      <td>IND</td>\n",
       "      <td>M</td>\n",
       "      <td>M35</td>\n",
       "      <td>10.063</td>\n",
       "      <td>23912</td>\n",
       "      <td>38</td>\n",
       "    </tr>\n",
       "  </tbody>\n",
       "</table>\n",
       "</div>"
      ],
      "text/plain": [
       "   index  Year of event Event dates                           Event name  \\\n",
       "0   5843           2018  18.03.2018  TITI 50km Road Ultra Marathon (MAS)   \n",
       "1  16245           2018  17.03.2018                Om Die Dam 50km (RSA)   \n",
       "2  23416           2018  10.03.2018                  North C Trail (BEL)   \n",
       "3  24745           2018  10.03.2018    Crazy Desert Trail Race 50k (USA)   \n",
       "4  25299           2018  10.03.2018            Dirty Duo Trail Run (CAN)   \n",
       "\n",
       "  Event distance/length  Event number of finishers Athlete performance  \\\n",
       "0                  50km                        282             8:44:07   \n",
       "1                  50km                       2491             5:18:55   \n",
       "2                  50km                        192             8:04:30   \n",
       "3                  50km                         59             6:21:38   \n",
       "4                  50km                         34             4:58:08   \n",
       "\n",
       "  Athlete country Athlete gender Athlete age category  Athlete average speed  \\\n",
       "0             IND              M                  M40                  5.724   \n",
       "1             IND              M                  M23                  9.407   \n",
       "2             IND              F                  W23                  6.192   \n",
       "3             IND              M                  M23                  7.861   \n",
       "4             IND              M                  M35                 10.063   \n",
       "\n",
       "   Athlete ID  Athlete_Age  \n",
       "0        5211           41  \n",
       "1       15497           30  \n",
       "2       22117           28  \n",
       "3       23372           31  \n",
       "4       23912           38  "
      ]
     },
     "execution_count": 73,
     "metadata": {},
     "output_type": "execute_result"
    }
   ],
   "source": [
    "df.head()"
   ]
  },
  {
   "cell_type": "markdown",
   "id": "464ee5df",
   "metadata": {
    "papermill": {
     "duration": 0.028845,
     "end_time": "2024-10-17T06:00:49.914640",
     "exception": false,
     "start_time": "2024-10-17T06:00:49.885795",
     "status": "completed"
    },
    "tags": []
   },
   "source": [
    "## ***Analysing and Visualising Data***\n"
   ]
  },
  {
   "cell_type": "markdown",
   "id": "34f0eb2e-ca65-4126-a464-9d903937cced",
   "metadata": {},
   "source": [
    "### Number of athletes participating in each of the events."
   ]
  },
  {
   "cell_type": "code",
   "execution_count": 82,
   "id": "0a5ce20c",
   "metadata": {
    "papermill": {
     "duration": 0.459148,
     "end_time": "2024-10-17T06:00:50.403631",
     "exception": false,
     "start_time": "2024-10-17T06:00:49.944483",
     "status": "completed"
    },
    "tags": []
   },
   "outputs": [
    {
     "data": {
      "image/png": "[encoded data removed]",
      "text/plain": [
       "<Figure size 1000x600 with 1 Axes>"
      ]
     },
     "metadata": {},
     "output_type": "display_data"
    }
   ],
   "source": [
    "df['Event name'].value_counts().head().plot(kind='bar',title='Athlete participation in various events',xlabel='Event Name',ylabel='No. of Athletes',\n",
    "                                           figsize=(10,6),color='green')\n",
    "plt.show()"
   ]
  },
  {
   "cell_type": "markdown",
   "id": "26cc7cca",
   "metadata": {
    "papermill": {
     "duration": 0.029908,
     "end_time": "2024-10-17T06:00:50.464229",
     "exception": false,
     "start_time": "2024-10-17T06:00:50.434321",
     "status": "completed"
    },
    "tags": []
   },
   "source": [
    "## **Event participation by Gender**"
   ]
  },
  {
   "cell_type": "code",
   "execution_count": 101,
   "id": "9ba88c05",
   "metadata": {
    "papermill": {
     "duration": 0.742151,
     "end_time": "2024-10-17T06:00:51.238011",
     "exception": false,
     "start_time": "2024-10-17T06:00:50.495860",
     "status": "completed"
    },
    "tags": []
   },
   "outputs": [
    {
     "data": {
      "image/png": "[encoded data removed]",
      "text/plain": [
       "<Figure size 614.611x500 with 1 Axes>"
      ]
     },
     "metadata": {},
     "output_type": "display_data"
    }
   ],
   "source": [
    "sns.displot(data=df,kind='hist',x='Event distance/length',hue='Athlete gender')\n",
    "plt.title('Event participation by Gender')\n",
    "plt.ylabel('No. of athletes')\n",
    "plt.show()"
   ]
  },
  {
   "cell_type": "code",
   "execution_count": 91,
   "id": "fdef79a9",
   "metadata": {
    "papermill": {
     "duration": 0.061822,
     "end_time": "2024-10-17T06:00:51.331164",
     "exception": false,
     "start_time": "2024-10-17T06:00:51.269342",
     "status": "completed"
    },
    "tags": []
   },
   "outputs": [
    {
     "data": {
      "text/html": [
       "<div>\n",
       "<style scoped>\n",
       "    .dataframe tbody tr th:only-of-type {\n",
       "        vertical-align: middle;\n",
       "    }\n",
       "\n",
       "    .dataframe tbody tr th {\n",
       "        vertical-align: top;\n",
       "    }\n",
       "\n",
       "    .dataframe thead th {\n",
       "        text-align: right;\n",
       "    }\n",
       "</style>\n",
       "<table border=\"1\" class=\"dataframe\">\n",
       "  <thead>\n",
       "    <tr style=\"text-align: right;\">\n",
       "      <th>Athlete gender</th>\n",
       "      <th>F</th>\n",
       "      <th>M</th>\n",
       "    </tr>\n",
       "    <tr>\n",
       "      <th>Event distance/length</th>\n",
       "      <th></th>\n",
       "      <th></th>\n",
       "    </tr>\n",
       "  </thead>\n",
       "  <tbody>\n",
       "    <tr>\n",
       "      <th>100km</th>\n",
       "      <td>85</td>\n",
       "      <td>719</td>\n",
       "    </tr>\n",
       "    <tr>\n",
       "      <th>12h</th>\n",
       "      <td>146</td>\n",
       "      <td>899</td>\n",
       "    </tr>\n",
       "    <tr>\n",
       "      <th>24h</th>\n",
       "      <td>122</td>\n",
       "      <td>578</td>\n",
       "    </tr>\n",
       "    <tr>\n",
       "      <th>50km</th>\n",
       "      <td>392</td>\n",
       "      <td>3412</td>\n",
       "    </tr>\n",
       "  </tbody>\n",
       "</table>\n",
       "</div>"
      ],
      "text/plain": [
       "Athlete gender           F     M\n",
       "Event distance/length           \n",
       "100km                   85   719\n",
       "12h                    146   899\n",
       "24h                    122   578\n",
       "50km                   392  3412"
      ]
     },
     "execution_count": 91,
     "metadata": {},
     "output_type": "execute_result"
    }
   ],
   "source": [
    "race_by_gender=pd.crosstab(index=df['Event distance/length'],columns=df['Athlete gender'])\n",
    "race_by_gender"
   ]
  },
  {
   "cell_type": "code",
   "execution_count": 97,
   "id": "769402cd",
   "metadata": {
    "papermill": {
     "duration": 0.706462,
     "end_time": "2024-10-17T06:00:52.069385",
     "exception": false,
     "start_time": "2024-10-17T06:00:51.362923",
     "status": "completed"
    },
    "tags": []
   },
   "outputs": [
    {
     "data": {
      "image/png": "[encoded data removed]",
      "text/plain": [
       "<Figure size 500x500 with 1 Axes>"
      ]
     },
     "metadata": {},
     "output_type": "display_data"
    }
   ],
   "source": [
    "sns.displot(data=df,x='Athlete_Age',kind='hist',color='skyblue',kde='True')\n",
    "plt.title(\"Distribution of Athlete age\")\n",
    "plt.show()"
   ]
  },
  {
   "cell_type": "code",
   "execution_count": 99,
   "id": "7e3fd834",
   "metadata": {
    "papermill": {
     "duration": 0.692872,
     "end_time": "2024-10-17T06:00:52.794968",
     "exception": false,
     "start_time": "2024-10-17T06:00:52.102096",
     "status": "completed"
    },
    "tags": []
   },
   "outputs": [
    {
     "data": {
      "image/png": "[encoded data removed]",
      "text/plain": [
       "<Figure size 500x500 with 1 Axes>"
      ]
     },
     "metadata": {},
     "output_type": "display_data"
    }
   ],
   "source": [
    "sns.displot(data=df,x='Athlete average speed',color='grey',kde=True)\n",
    "plt.title(\"Distribution of Athlete average speed\")\n",
    "plt.show()"
   ]
  },
  {
   "cell_type": "code",
   "execution_count": 103,
   "id": "a3e570be",
   "metadata": {
    "papermill": {
     "duration": 0.060448,
     "end_time": "2024-10-17T06:00:52.888558",
     "exception": false,
     "start_time": "2024-10-17T06:00:52.828110",
     "status": "completed"
    },
    "tags": []
   },
   "outputs": [
    {
     "data": {
      "text/html": [
       "<div>\n",
       "<style scoped>\n",
       "    .dataframe tbody tr th:only-of-type {\n",
       "        vertical-align: middle;\n",
       "    }\n",
       "\n",
       "    .dataframe tbody tr th {\n",
       "        vertical-align: top;\n",
       "    }\n",
       "\n",
       "    .dataframe thead th {\n",
       "        text-align: right;\n",
       "    }\n",
       "</style>\n",
       "<table border=\"1\" class=\"dataframe\">\n",
       "  <thead>\n",
       "    <tr style=\"text-align: right;\">\n",
       "      <th></th>\n",
       "      <th>mean</th>\n",
       "      <th>count</th>\n",
       "    </tr>\n",
       "    <tr>\n",
       "      <th>Athlete age category</th>\n",
       "      <th></th>\n",
       "      <th></th>\n",
       "    </tr>\n",
       "  </thead>\n",
       "  <tbody>\n",
       "    <tr>\n",
       "      <th>MU23</th>\n",
       "      <td>7.627282</td>\n",
       "      <td>216</td>\n",
       "    </tr>\n",
       "    <tr>\n",
       "      <th>M23</th>\n",
       "      <td>7.262704</td>\n",
       "      <td>1974</td>\n",
       "    </tr>\n",
       "    <tr>\n",
       "      <th>W50</th>\n",
       "      <td>7.231467</td>\n",
       "      <td>30</td>\n",
       "    </tr>\n",
       "    <tr>\n",
       "      <th>M35</th>\n",
       "      <td>7.078349</td>\n",
       "      <td>1156</td>\n",
       "    </tr>\n",
       "    <tr>\n",
       "      <th>W45</th>\n",
       "      <td>6.946688</td>\n",
       "      <td>80</td>\n",
       "    </tr>\n",
       "  </tbody>\n",
       "</table>\n",
       "</div>"
      ],
      "text/plain": [
       "                          mean  count\n",
       "Athlete age category                 \n",
       "MU23                  7.627282    216\n",
       "M23                   7.262704   1974\n",
       "W50                   7.231467     30\n",
       "M35                   7.078349   1156\n",
       "W45                   6.946688     80"
      ]
     },
     "execution_count": 103,
     "metadata": {},
     "output_type": "execute_result"
    }
   ],
   "source": [
    "age_vs_speed=df.groupby(['Athlete age category'])['Athlete average speed'].agg(['mean','count']).sort_values(by='mean',ascending=False).query('count>20')\n",
    "age_vs_speed.head()"
   ]
  },
  {
   "cell_type": "markdown",
   "id": "7f6ba6f9",
   "metadata": {
    "papermill": {
     "duration": 0.03284,
     "end_time": "2024-10-17T06:00:52.954005",
     "exception": false,
     "start_time": "2024-10-17T06:00:52.921165",
     "status": "completed"
    },
    "tags": []
   },
   "source": [
    "## **Average speed vs Age**"
   ]
  },
  {
   "cell_type": "code",
   "execution_count": 107,
   "id": "2a4e6318",
   "metadata": {
    "papermill": {
     "duration": 0.450817,
     "end_time": "2024-10-17T06:00:53.437225",
     "exception": false,
     "start_time": "2024-10-17T06:00:52.986408",
     "status": "completed"
    },
    "tags": []
   },
   "outputs": [
    {
     "data": {
      "image/png": "[encoded data removed]",
      "text/plain": [
       "<Figure size 1000x600 with 1 Axes>"
      ]
     },
     "metadata": {},
     "output_type": "display_data"
    }
   ],
   "source": [
    "plt.figure(figsize=(10, 6))\n",
    "plt.plot(age_vs_speed.index, age_vs_speed['mean'], marker='o', color='b', linestyle='-')\n",
    "plt.xlabel('Age group')\n",
    "plt.ylabel('Average Speed')\n",
    "plt.title('Average speed vs Age')\n",
    "plt.tight_layout()\n",
    "plt.show()"
   ]
  },
  {
   "cell_type": "code",
   "execution_count": 109,
   "id": "f69dabb3",
   "metadata": {
    "papermill": {
     "duration": 0.058767,
     "end_time": "2024-10-17T06:00:53.530661",
     "exception": false,
     "start_time": "2024-10-17T06:00:53.471894",
     "status": "completed"
    },
    "tags": []
   },
   "outputs": [
    {
     "data": {
      "text/html": [
       "<div>\n",
       "<style scoped>\n",
       "    .dataframe tbody tr th:only-of-type {\n",
       "        vertical-align: middle;\n",
       "    }\n",
       "\n",
       "    .dataframe tbody tr th {\n",
       "        vertical-align: top;\n",
       "    }\n",
       "\n",
       "    .dataframe thead th {\n",
       "        text-align: right;\n",
       "    }\n",
       "</style>\n",
       "<table border=\"1\" class=\"dataframe\">\n",
       "  <thead>\n",
       "    <tr style=\"text-align: right;\">\n",
       "      <th></th>\n",
       "      <th>Event distance/length</th>\n",
       "      <th>Athlete gender</th>\n",
       "      <th>mean</th>\n",
       "      <th>count</th>\n",
       "    </tr>\n",
       "  </thead>\n",
       "  <tbody>\n",
       "    <tr>\n",
       "      <th>0</th>\n",
       "      <td>50km</td>\n",
       "      <td>M</td>\n",
       "      <td>7.520869</td>\n",
       "      <td>3412</td>\n",
       "    </tr>\n",
       "    <tr>\n",
       "      <th>1</th>\n",
       "      <td>50km</td>\n",
       "      <td>F</td>\n",
       "      <td>7.124495</td>\n",
       "      <td>392</td>\n",
       "    </tr>\n",
       "    <tr>\n",
       "      <th>2</th>\n",
       "      <td>100km</td>\n",
       "      <td>F</td>\n",
       "      <td>6.944259</td>\n",
       "      <td>85</td>\n",
       "    </tr>\n",
       "    <tr>\n",
       "      <th>3</th>\n",
       "      <td>12h</td>\n",
       "      <td>M</td>\n",
       "      <td>6.796552</td>\n",
       "      <td>899</td>\n",
       "    </tr>\n",
       "    <tr>\n",
       "      <th>4</th>\n",
       "      <td>12h</td>\n",
       "      <td>F</td>\n",
       "      <td>6.574096</td>\n",
       "      <td>146</td>\n",
       "    </tr>\n",
       "    <tr>\n",
       "      <th>5</th>\n",
       "      <td>100km</td>\n",
       "      <td>M</td>\n",
       "      <td>6.565604</td>\n",
       "      <td>719</td>\n",
       "    </tr>\n",
       "    <tr>\n",
       "      <th>6</th>\n",
       "      <td>24h</td>\n",
       "      <td>F</td>\n",
       "      <td>5.798016</td>\n",
       "      <td>122</td>\n",
       "    </tr>\n",
       "    <tr>\n",
       "      <th>7</th>\n",
       "      <td>24h</td>\n",
       "      <td>M</td>\n",
       "      <td>5.633988</td>\n",
       "      <td>578</td>\n",
       "    </tr>\n",
       "  </tbody>\n",
       "</table>\n",
       "</div>"
      ],
      "text/plain": [
       "  Event distance/length Athlete gender      mean  count\n",
       "0                  50km              M  7.520869   3412\n",
       "1                  50km              F  7.124495    392\n",
       "2                 100km              F  6.944259     85\n",
       "3                   12h              M  6.796552    899\n",
       "4                   12h              F  6.574096    146\n",
       "5                 100km              M  6.565604    719\n",
       "6                   24h              F  5.798016    122\n",
       "7                   24h              M  5.633988    578"
      ]
     },
     "execution_count": 109,
     "metadata": {},
     "output_type": "execute_result"
    }
   ],
   "source": [
    "distance_gender=df.groupby(['Event distance/length','Athlete gender'])['Athlete average speed'].agg(['mean','count']).sort_values(by='mean',ascending=False)\n",
    "data=distance_gender.reset_index()\n",
    "data"
   ]
  },
  {
   "cell_type": "markdown",
   "id": "128cadd4",
   "metadata": {
    "papermill": {
     "duration": 0.033643,
     "end_time": "2024-10-17T06:00:53.597945",
     "exception": false,
     "start_time": "2024-10-17T06:00:53.564302",
     "status": "completed"
    },
    "tags": []
   },
   "source": [
    "## **Athlete average speed by Event Distance and Gender**"
   ]
  },
  {
   "cell_type": "code",
   "execution_count": 111,
   "id": "e2dc42ca",
   "metadata": {
    "papermill": {
     "duration": 0.340679,
     "end_time": "2024-10-17T06:00:53.972587",
     "exception": false,
     "start_time": "2024-10-17T06:00:53.631908",
     "status": "completed"
    },
    "tags": []
   },
   "outputs": [
    {
     "data": {
      "image/png": "[encoded data removed]",
      "text/plain": [
       "<Figure size 1000x600 with 1 Axes>"
      ]
     },
     "metadata": {},
     "output_type": "display_data"
    }
   ],
   "source": [
    "plt.figure(figsize=(10, 6))\n",
    "sns.barplot(x='Event distance/length', y='mean', hue='Athlete gender', data=data)\n",
    "plt.xlabel('Event distance/length')\n",
    "plt.ylabel('Athlete average speed')\n",
    "plt.title('Athlete average speed by Event Distance and Gender')\n",
    "plt.legend(title='Athlete Gender')\n",
    "plt.show()"
   ]
  },
  {
   "cell_type": "code",
   "execution_count": 113,
   "id": "ff4b9dfe",
   "metadata": {
    "papermill": {
     "duration": 0.062597,
     "end_time": "2024-10-17T06:00:54.069866",
     "exception": false,
     "start_time": "2024-10-17T06:00:54.007269",
     "status": "completed"
    },
    "tags": []
   },
   "outputs": [
    {
     "data": {
      "text/html": [
       "<div>\n",
       "<style scoped>\n",
       "    .dataframe tbody tr th:only-of-type {\n",
       "        vertical-align: middle;\n",
       "    }\n",
       "\n",
       "    .dataframe tbody tr th {\n",
       "        vertical-align: top;\n",
       "    }\n",
       "\n",
       "    .dataframe thead tr th {\n",
       "        text-align: left;\n",
       "    }\n",
       "\n",
       "    .dataframe thead tr:last-of-type th {\n",
       "        text-align: right;\n",
       "    }\n",
       "</style>\n",
       "<table border=\"1\" class=\"dataframe\">\n",
       "  <thead>\n",
       "    <tr>\n",
       "      <th></th>\n",
       "      <th></th>\n",
       "      <th>Athlete gender</th>\n",
       "      <th colspan=\"2\" halign=\"left\">Athlete average speed</th>\n",
       "    </tr>\n",
       "    <tr>\n",
       "      <th></th>\n",
       "      <th></th>\n",
       "      <th>count</th>\n",
       "      <th>mean</th>\n",
       "      <th>count</th>\n",
       "    </tr>\n",
       "    <tr>\n",
       "      <th>Event distance/length</th>\n",
       "      <th>Athlete gender</th>\n",
       "      <th></th>\n",
       "      <th></th>\n",
       "      <th></th>\n",
       "    </tr>\n",
       "  </thead>\n",
       "  <tbody>\n",
       "    <tr>\n",
       "      <th rowspan=\"2\" valign=\"top\">100km</th>\n",
       "      <th>F</th>\n",
       "      <td>85</td>\n",
       "      <td>6.944259</td>\n",
       "      <td>85</td>\n",
       "    </tr>\n",
       "    <tr>\n",
       "      <th>M</th>\n",
       "      <td>719</td>\n",
       "      <td>6.565604</td>\n",
       "      <td>719</td>\n",
       "    </tr>\n",
       "    <tr>\n",
       "      <th rowspan=\"2\" valign=\"top\">12h</th>\n",
       "      <th>F</th>\n",
       "      <td>146</td>\n",
       "      <td>6.574096</td>\n",
       "      <td>146</td>\n",
       "    </tr>\n",
       "    <tr>\n",
       "      <th>M</th>\n",
       "      <td>899</td>\n",
       "      <td>6.796552</td>\n",
       "      <td>899</td>\n",
       "    </tr>\n",
       "    <tr>\n",
       "      <th rowspan=\"2\" valign=\"top\">24h</th>\n",
       "      <th>F</th>\n",
       "      <td>122</td>\n",
       "      <td>5.798016</td>\n",
       "      <td>122</td>\n",
       "    </tr>\n",
       "    <tr>\n",
       "      <th>M</th>\n",
       "      <td>578</td>\n",
       "      <td>5.633988</td>\n",
       "      <td>578</td>\n",
       "    </tr>\n",
       "    <tr>\n",
       "      <th rowspan=\"2\" valign=\"top\">50km</th>\n",
       "      <th>F</th>\n",
       "      <td>392</td>\n",
       "      <td>7.124495</td>\n",
       "      <td>392</td>\n",
       "    </tr>\n",
       "    <tr>\n",
       "      <th>M</th>\n",
       "      <td>3412</td>\n",
       "      <td>7.520869</td>\n",
       "      <td>3412</td>\n",
       "    </tr>\n",
       "  </tbody>\n",
       "</table>\n",
       "</div>"
      ],
      "text/plain": [
       "                                     Athlete gender Athlete average speed  \\\n",
       "                                              count                  mean   \n",
       "Event distance/length Athlete gender                                        \n",
       "100km                 F                          85              6.944259   \n",
       "                      M                         719              6.565604   \n",
       "12h                   F                         146              6.574096   \n",
       "                      M                         899              6.796552   \n",
       "24h                   F                         122              5.798016   \n",
       "                      M                         578              5.633988   \n",
       "50km                  F                         392              7.124495   \n",
       "                      M                        3412              7.520869   \n",
       "\n",
       "                                            \n",
       "                                     count  \n",
       "Event distance/length Athlete gender        \n",
       "100km                 F                 85  \n",
       "                      M                719  \n",
       "12h                   F                146  \n",
       "                      M                899  \n",
       "24h                   F                122  \n",
       "                      M                578  \n",
       "50km                  F                392  \n",
       "                      M               3412  "
      ]
     },
     "execution_count": 113,
     "metadata": {},
     "output_type": "execute_result"
    }
   ],
   "source": [
    "distance = df.groupby(['Event distance/length','Athlete gender']).agg({'Athlete gender': 'count', 'Athlete average speed': ['mean', 'count']})\n",
    "distance"
   ]
  },
  {
   "cell_type": "markdown",
   "id": "82f0143c",
   "metadata": {
    "papermill": {
     "duration": 0.034182,
     "end_time": "2024-10-17T06:00:54.139454",
     "exception": false,
     "start_time": "2024-10-17T06:00:54.105272",
     "status": "completed"
    },
    "tags": []
   },
   "source": [
    "## **the relationship between the length of the race and athlethe average speed**"
   ]
  },
  {
   "cell_type": "code",
   "execution_count": 115,
   "id": "9c620984",
   "metadata": {
    "papermill": {
     "duration": 0.569025,
     "end_time": "2024-10-17T06:00:54.743042",
     "exception": false,
     "start_time": "2024-10-17T06:00:54.174017",
     "status": "completed"
    },
    "tags": []
   },
   "outputs": [
    {
     "data": {
      "image/png": "[encoded data removed]",
      "text/plain": [
       "<Figure size 1200x600 with 1 Axes>"
      ]
     },
     "metadata": {},
     "output_type": "display_data"
    }
   ],
   "source": [
    "# the relationship between the length of the race and athlethe average speed\n",
    "plt.figure(figsize=(12, 6))\n",
    "sns.violinplot(data =df, x = 'Event distance/length', y='Athlete average speed', hue = 'Athlete gender', split = True, inner='quartz')\n",
    "plt.tight_layout()"
   ]
  },
  {
   "cell_type": "markdown",
   "id": "6563f971-75d7-46f4-9714-d7200c2c0b22",
   "metadata": {},
   "source": [
    "## We will re-format the event date to date format"
   ]
  },
  {
   "cell_type": "code",
   "execution_count": 118,
   "id": "fcd48874",
   "metadata": {
    "papermill": {
     "duration": 0.057609,
     "end_time": "2024-10-17T06:00:54.836766",
     "exception": false,
     "start_time": "2024-10-17T06:00:54.779157",
     "status": "completed"
    },
    "tags": []
   },
   "outputs": [],
   "source": [
    "df['Event dates']=pd.to_datetime(df['Event dates'],errors='coerce')"
   ]
  },
  {
   "cell_type": "code",
   "execution_count": 120,
   "id": "9197ddbe",
   "metadata": {
    "papermill": {
     "duration": 0.282161,
     "end_time": "2024-10-17T06:00:55.155753",
     "exception": false,
     "start_time": "2024-10-17T06:00:54.873592",
     "status": "completed"
    },
    "tags": []
   },
   "outputs": [],
   "source": [
    "df['Athlete performance']=pd.to_datetime(df['Athlete performance'],errors='coerce')"
   ]
  },
  {
   "cell_type": "code",
   "execution_count": 124,
   "id": "efbc3c21",
   "metadata": {
    "papermill": {
     "duration": 0.274703,
     "end_time": "2024-10-17T06:00:55.466841",
     "exception": false,
     "start_time": "2024-10-17T06:00:55.192138",
     "status": "completed"
    },
    "tags": []
   },
   "outputs": [
    {
     "data": {
      "image/png": "[encoded data removed]",
      "text/plain": [
       "<Figure size 640x480 with 1 Axes>"
      ]
     },
     "metadata": {},
     "output_type": "display_data"
    }
   ],
   "source": [
    "filtered_df = df[(df['Event distance/length'] == '50km') | (df['Event distance/length'] == '100km')]\n",
    "sns.boxplot(y=filtered_df['Athlete performance'].dt.hour,x=filtered_df['Event distance/length'])\n",
    "plt.show()"
   ]
  },
  {
   "cell_type": "code",
   "execution_count": 130,
   "id": "c95289f5",
   "metadata": {
    "papermill": {
     "duration": 0.065992,
     "end_time": "2024-10-17T06:00:55.572746",
     "exception": false,
     "start_time": "2024-10-17T06:00:55.506754",
     "status": "completed"
    },
    "tags": []
   },
   "outputs": [
    {
     "data": {
      "text/html": [
       "<div>\n",
       "<style scoped>\n",
       "    .dataframe tbody tr th:only-of-type {\n",
       "        vertical-align: middle;\n",
       "    }\n",
       "\n",
       "    .dataframe tbody tr th {\n",
       "        vertical-align: top;\n",
       "    }\n",
       "\n",
       "    .dataframe thead th {\n",
       "        text-align: right;\n",
       "    }\n",
       "</style>\n",
       "<table border=\"1\" class=\"dataframe\">\n",
       "  <thead>\n",
       "    <tr style=\"text-align: right;\">\n",
       "      <th></th>\n",
       "      <th>index</th>\n",
       "      <th>Year of event</th>\n",
       "      <th>Event dates</th>\n",
       "      <th>Event name</th>\n",
       "      <th>Event distance/length</th>\n",
       "      <th>Event number of finishers</th>\n",
       "      <th>Athlete performance</th>\n",
       "      <th>Athlete country</th>\n",
       "      <th>Athlete gender</th>\n",
       "      <th>Athlete age category</th>\n",
       "      <th>Athlete average speed</th>\n",
       "      <th>Athlete ID</th>\n",
       "      <th>Athlete_Age</th>\n",
       "    </tr>\n",
       "  </thead>\n",
       "  <tbody>\n",
       "    <tr>\n",
       "      <th>0</th>\n",
       "      <td>5843</td>\n",
       "      <td>2018</td>\n",
       "      <td>2018-03-18</td>\n",
       "      <td>TITI 50km Road Ultra Marathon (MAS)</td>\n",
       "      <td>50km</td>\n",
       "      <td>282</td>\n",
       "      <td>2025-02-24 08:44:07</td>\n",
       "      <td>IND</td>\n",
       "      <td>M</td>\n",
       "      <td>M40</td>\n",
       "      <td>5.724</td>\n",
       "      <td>5211</td>\n",
       "      <td>41</td>\n",
       "    </tr>\n",
       "    <tr>\n",
       "      <th>1</th>\n",
       "      <td>16245</td>\n",
       "      <td>2018</td>\n",
       "      <td>2018-03-17</td>\n",
       "      <td>Om Die Dam 50km (RSA)</td>\n",
       "      <td>50km</td>\n",
       "      <td>2491</td>\n",
       "      <td>2025-02-24 05:18:55</td>\n",
       "      <td>IND</td>\n",
       "      <td>M</td>\n",
       "      <td>M23</td>\n",
       "      <td>9.407</td>\n",
       "      <td>15497</td>\n",
       "      <td>30</td>\n",
       "    </tr>\n",
       "    <tr>\n",
       "      <th>2</th>\n",
       "      <td>23416</td>\n",
       "      <td>2018</td>\n",
       "      <td>2018-03-10</td>\n",
       "      <td>North C Trail (BEL)</td>\n",
       "      <td>50km</td>\n",
       "      <td>192</td>\n",
       "      <td>2025-02-24 08:04:30</td>\n",
       "      <td>IND</td>\n",
       "      <td>F</td>\n",
       "      <td>W23</td>\n",
       "      <td>6.192</td>\n",
       "      <td>22117</td>\n",
       "      <td>28</td>\n",
       "    </tr>\n",
       "    <tr>\n",
       "      <th>3</th>\n",
       "      <td>24745</td>\n",
       "      <td>2018</td>\n",
       "      <td>2018-03-10</td>\n",
       "      <td>Crazy Desert Trail Race 50k (USA)</td>\n",
       "      <td>50km</td>\n",
       "      <td>59</td>\n",
       "      <td>2025-02-24 06:21:38</td>\n",
       "      <td>IND</td>\n",
       "      <td>M</td>\n",
       "      <td>M23</td>\n",
       "      <td>7.861</td>\n",
       "      <td>23372</td>\n",
       "      <td>31</td>\n",
       "    </tr>\n",
       "    <tr>\n",
       "      <th>4</th>\n",
       "      <td>25299</td>\n",
       "      <td>2018</td>\n",
       "      <td>2018-03-10</td>\n",
       "      <td>Dirty Duo Trail Run (CAN)</td>\n",
       "      <td>50km</td>\n",
       "      <td>34</td>\n",
       "      <td>2025-02-24 04:58:08</td>\n",
       "      <td>IND</td>\n",
       "      <td>M</td>\n",
       "      <td>M35</td>\n",
       "      <td>10.063</td>\n",
       "      <td>23912</td>\n",
       "      <td>38</td>\n",
       "    </tr>\n",
       "  </tbody>\n",
       "</table>\n",
       "</div>"
      ],
      "text/plain": [
       "   index  Year of event Event dates                           Event name  \\\n",
       "0   5843           2018  2018-03-18  TITI 50km Road Ultra Marathon (MAS)   \n",
       "1  16245           2018  2018-03-17                Om Die Dam 50km (RSA)   \n",
       "2  23416           2018  2018-03-10                  North C Trail (BEL)   \n",
       "3  24745           2018  2018-03-10    Crazy Desert Trail Race 50k (USA)   \n",
       "4  25299           2018  2018-03-10            Dirty Duo Trail Run (CAN)   \n",
       "\n",
       "  Event distance/length  Event number of finishers Athlete performance  \\\n",
       "0                  50km                        282 2025-02-24 08:44:07   \n",
       "1                  50km                       2491 2025-02-24 05:18:55   \n",
       "2                  50km                        192 2025-02-24 08:04:30   \n",
       "3                  50km                         59 2025-02-24 06:21:38   \n",
       "4                  50km                         34 2025-02-24 04:58:08   \n",
       "\n",
       "  Athlete country Athlete gender Athlete age category  Athlete average speed  \\\n",
       "0             IND              M                  M40                  5.724   \n",
       "1             IND              M                  M23                  9.407   \n",
       "2             IND              F                  W23                  6.192   \n",
       "3             IND              M                  M23                  7.861   \n",
       "4             IND              M                  M35                 10.063   \n",
       "\n",
       "   Athlete ID  Athlete_Age  \n",
       "0        5211           41  \n",
       "1       15497           30  \n",
       "2       22117           28  \n",
       "3       23372           31  \n",
       "4       23912           38  "
      ]
     },
     "execution_count": 130,
     "metadata": {},
     "output_type": "execute_result"
    }
   ],
   "source": [
    "filtered_df.head()"
   ]
  },
  {
   "cell_type": "markdown",
   "id": "4a613076",
   "metadata": {
    "papermill": {
     "duration": 0.037277,
     "end_time": "2024-10-17T06:00:55.647410",
     "exception": false,
     "start_time": "2024-10-17T06:00:55.610133",
     "status": "completed"
    },
    "tags": []
   },
   "source": [
    "## **Time in hours vs Speed**"
   ]
  },
  {
   "cell_type": "code",
   "execution_count": 136,
   "id": "a8a7456d",
   "metadata": {
    "papermill": {
     "duration": 1.378463,
     "end_time": "2024-10-17T06:00:57.064623",
     "exception": false,
     "start_time": "2024-10-17T06:00:55.686160",
     "status": "completed"
    },
    "tags": []
   },
   "outputs": [
    {
     "data": {
      "image/png": "[encoded data removed]",
      "text/plain": [
       "<Figure size 1600x800 with 1 Axes>"
      ]
     },
     "metadata": {},
     "output_type": "display_data"
    }
   ],
   "source": [
    "plt.figure(figsize=(16,8))\n",
    "sns.pointplot(data=filtered_df,x=filtered_df['Athlete performance'].dt.hour,y=df['Athlete average speed'],estimator='mean')\n",
    "plt.title('Time vs Speed')\n",
    "plt.show()"
   ]
  },
  {
   "cell_type": "code",
   "execution_count": 138,
   "id": "d90eaa11",
   "metadata": {
    "papermill": {
     "duration": 0.053999,
     "end_time": "2024-10-17T06:00:57.158028",
     "exception": false,
     "start_time": "2024-10-17T06:00:57.104029",
     "status": "completed"
    },
    "tags": []
   },
   "outputs": [],
   "source": [
    "df['Athlete_performance_in_hours']=df['Athlete performance'].dt.hour+(df['Athlete performance'].dt.minute/60)"
   ]
  },
  {
   "cell_type": "code",
   "execution_count": 140,
   "id": "544774b3",
   "metadata": {
    "papermill": {
     "duration": 0.068083,
     "end_time": "2024-10-17T06:00:57.265171",
     "exception": false,
     "start_time": "2024-10-17T06:00:57.197088",
     "status": "completed"
    },
    "tags": []
   },
   "outputs": [
    {
     "data": {
      "text/html": [
       "<div>\n",
       "<style scoped>\n",
       "    .dataframe tbody tr th:only-of-type {\n",
       "        vertical-align: middle;\n",
       "    }\n",
       "\n",
       "    .dataframe tbody tr th {\n",
       "        vertical-align: top;\n",
       "    }\n",
       "\n",
       "    .dataframe thead th {\n",
       "        text-align: right;\n",
       "    }\n",
       "</style>\n",
       "<table border=\"1\" class=\"dataframe\">\n",
       "  <thead>\n",
       "    <tr style=\"text-align: right;\">\n",
       "      <th></th>\n",
       "      <th>index</th>\n",
       "      <th>Year of event</th>\n",
       "      <th>Event dates</th>\n",
       "      <th>Event name</th>\n",
       "      <th>Event distance/length</th>\n",
       "      <th>Event number of finishers</th>\n",
       "      <th>Athlete performance</th>\n",
       "      <th>Athlete country</th>\n",
       "      <th>Athlete gender</th>\n",
       "      <th>Athlete age category</th>\n",
       "      <th>Athlete average speed</th>\n",
       "      <th>Athlete ID</th>\n",
       "      <th>Athlete_Age</th>\n",
       "      <th>Athlete_performance_in_hours</th>\n",
       "    </tr>\n",
       "  </thead>\n",
       "  <tbody>\n",
       "    <tr>\n",
       "      <th>0</th>\n",
       "      <td>5843</td>\n",
       "      <td>2018</td>\n",
       "      <td>2018-03-18</td>\n",
       "      <td>TITI 50km Road Ultra Marathon (MAS)</td>\n",
       "      <td>50km</td>\n",
       "      <td>282</td>\n",
       "      <td>2025-02-24 08:44:07</td>\n",
       "      <td>IND</td>\n",
       "      <td>M</td>\n",
       "      <td>M40</td>\n",
       "      <td>5.724</td>\n",
       "      <td>5211</td>\n",
       "      <td>41</td>\n",
       "      <td>8.733333</td>\n",
       "    </tr>\n",
       "    <tr>\n",
       "      <th>1</th>\n",
       "      <td>16245</td>\n",
       "      <td>2018</td>\n",
       "      <td>2018-03-17</td>\n",
       "      <td>Om Die Dam 50km (RSA)</td>\n",
       "      <td>50km</td>\n",
       "      <td>2491</td>\n",
       "      <td>2025-02-24 05:18:55</td>\n",
       "      <td>IND</td>\n",
       "      <td>M</td>\n",
       "      <td>M23</td>\n",
       "      <td>9.407</td>\n",
       "      <td>15497</td>\n",
       "      <td>30</td>\n",
       "      <td>5.300000</td>\n",
       "    </tr>\n",
       "    <tr>\n",
       "      <th>2</th>\n",
       "      <td>23416</td>\n",
       "      <td>2018</td>\n",
       "      <td>2018-03-10</td>\n",
       "      <td>North C Trail (BEL)</td>\n",
       "      <td>50km</td>\n",
       "      <td>192</td>\n",
       "      <td>2025-02-24 08:04:30</td>\n",
       "      <td>IND</td>\n",
       "      <td>F</td>\n",
       "      <td>W23</td>\n",
       "      <td>6.192</td>\n",
       "      <td>22117</td>\n",
       "      <td>28</td>\n",
       "      <td>8.066667</td>\n",
       "    </tr>\n",
       "    <tr>\n",
       "      <th>3</th>\n",
       "      <td>24745</td>\n",
       "      <td>2018</td>\n",
       "      <td>2018-03-10</td>\n",
       "      <td>Crazy Desert Trail Race 50k (USA)</td>\n",
       "      <td>50km</td>\n",
       "      <td>59</td>\n",
       "      <td>2025-02-24 06:21:38</td>\n",
       "      <td>IND</td>\n",
       "      <td>M</td>\n",
       "      <td>M23</td>\n",
       "      <td>7.861</td>\n",
       "      <td>23372</td>\n",
       "      <td>31</td>\n",
       "      <td>6.350000</td>\n",
       "    </tr>\n",
       "    <tr>\n",
       "      <th>4</th>\n",
       "      <td>25299</td>\n",
       "      <td>2018</td>\n",
       "      <td>2018-03-10</td>\n",
       "      <td>Dirty Duo Trail Run (CAN)</td>\n",
       "      <td>50km</td>\n",
       "      <td>34</td>\n",
       "      <td>2025-02-24 04:58:08</td>\n",
       "      <td>IND</td>\n",
       "      <td>M</td>\n",
       "      <td>M35</td>\n",
       "      <td>10.063</td>\n",
       "      <td>23912</td>\n",
       "      <td>38</td>\n",
       "      <td>4.966667</td>\n",
       "    </tr>\n",
       "  </tbody>\n",
       "</table>\n",
       "</div>"
      ],
      "text/plain": [
       "   index  Year of event Event dates                           Event name  \\\n",
       "0   5843           2018  2018-03-18  TITI 50km Road Ultra Marathon (MAS)   \n",
       "1  16245           2018  2018-03-17                Om Die Dam 50km (RSA)   \n",
       "2  23416           2018  2018-03-10                  North C Trail (BEL)   \n",
       "3  24745           2018  2018-03-10    Crazy Desert Trail Race 50k (USA)   \n",
       "4  25299           2018  2018-03-10            Dirty Duo Trail Run (CAN)   \n",
       "\n",
       "  Event distance/length  Event number of finishers Athlete performance  \\\n",
       "0                  50km                        282 2025-02-24 08:44:07   \n",
       "1                  50km                       2491 2025-02-24 05:18:55   \n",
       "2                  50km                        192 2025-02-24 08:04:30   \n",
       "3                  50km                         59 2025-02-24 06:21:38   \n",
       "4                  50km                         34 2025-02-24 04:58:08   \n",
       "\n",
       "  Athlete country Athlete gender Athlete age category  Athlete average speed  \\\n",
       "0             IND              M                  M40                  5.724   \n",
       "1             IND              M                  M23                  9.407   \n",
       "2             IND              F                  W23                  6.192   \n",
       "3             IND              M                  M23                  7.861   \n",
       "4             IND              M                  M35                 10.063   \n",
       "\n",
       "   Athlete ID  Athlete_Age  Athlete_performance_in_hours  \n",
       "0        5211           41                      8.733333  \n",
       "1       15497           30                      5.300000  \n",
       "2       22117           28                      8.066667  \n",
       "3       23372           31                      6.350000  \n",
       "4       23912           38                      4.966667  "
      ]
     },
     "execution_count": 140,
     "metadata": {},
     "output_type": "execute_result"
    }
   ],
   "source": [
    "df.head()"
   ]
  },
  {
   "cell_type": "code",
   "execution_count": 142,
   "id": "ba45dda6",
   "metadata": {
    "papermill": {
     "duration": 0.077505,
     "end_time": "2024-10-17T06:00:57.381342",
     "exception": false,
     "start_time": "2024-10-17T06:00:57.303837",
     "status": "completed"
    },
    "tags": []
   },
   "outputs": [
    {
     "data": {
      "text/html": [
       "<div>\n",
       "<style scoped>\n",
       "    .dataframe tbody tr th:only-of-type {\n",
       "        vertical-align: middle;\n",
       "    }\n",
       "\n",
       "    .dataframe tbody tr th {\n",
       "        vertical-align: top;\n",
       "    }\n",
       "\n",
       "    .dataframe thead th {\n",
       "        text-align: right;\n",
       "    }\n",
       "</style>\n",
       "<table border=\"1\" class=\"dataframe\">\n",
       "  <thead>\n",
       "    <tr style=\"text-align: right;\">\n",
       "      <th></th>\n",
       "      <th>mean</th>\n",
       "      <th>count</th>\n",
       "      <th>min</th>\n",
       "      <th>max</th>\n",
       "    </tr>\n",
       "    <tr>\n",
       "      <th>Event name</th>\n",
       "      <th></th>\n",
       "      <th></th>\n",
       "      <th></th>\n",
       "      <th></th>\n",
       "    </tr>\n",
       "  </thead>\n",
       "  <tbody>\n",
       "    <tr>\n",
       "      <th>BNP Ultra (IND)</th>\n",
       "      <td>6.024272</td>\n",
       "      <td>103</td>\n",
       "      <td>3.933333</td>\n",
       "      <td>8.066667</td>\n",
       "    </tr>\n",
       "    <tr>\n",
       "      <th>Bangalore 100 km Ultra Marathon (IND)</th>\n",
       "      <td>15.286458</td>\n",
       "      <td>80</td>\n",
       "      <td>10.100000</td>\n",
       "      <td>23.233333</td>\n",
       "    </tr>\n",
       "    <tr>\n",
       "      <th>Bangalore 50 km Ultra Marathon (IND)</th>\n",
       "      <td>6.420788</td>\n",
       "      <td>182</td>\n",
       "      <td>3.933333</td>\n",
       "      <td>9.600000</td>\n",
       "    </tr>\n",
       "    <tr>\n",
       "      <th>Bengaluru 100 km Stadium Run (IND)</th>\n",
       "      <td>9.472581</td>\n",
       "      <td>31</td>\n",
       "      <td>7.933333</td>\n",
       "      <td>13.350000</td>\n",
       "    </tr>\n",
       "    <tr>\n",
       "      <th>Bhatti Lakes 100 km (IND)</th>\n",
       "      <td>16.203846</td>\n",
       "      <td>39</td>\n",
       "      <td>11.866667</td>\n",
       "      <td>17.933333</td>\n",
       "    </tr>\n",
       "  </tbody>\n",
       "</table>\n",
       "</div>"
      ],
      "text/plain": [
       "                                            mean  count        min        max\n",
       "Event name                                                                   \n",
       "BNP Ultra (IND)                         6.024272    103   3.933333   8.066667\n",
       "Bangalore 100 km Ultra Marathon (IND)  15.286458     80  10.100000  23.233333\n",
       "Bangalore 50 km Ultra Marathon (IND)    6.420788    182   3.933333   9.600000\n",
       "Bengaluru 100 km Stadium Run (IND)      9.472581     31   7.933333  13.350000\n",
       "Bhatti Lakes 100 km (IND)              16.203846     39  11.866667  17.933333"
      ]
     },
     "execution_count": 142,
     "metadata": {},
     "output_type": "execute_result"
    }
   ],
   "source": [
    "events_by_hours=df.groupby('Event name')['Athlete_performance_in_hours'].agg(['mean','count','min','max']).query('count>20')\n",
    "events_by_hours.head()"
   ]
  },
  {
   "cell_type": "markdown",
   "id": "26b56adc",
   "metadata": {
    "papermill": {
     "duration": 0.040369,
     "end_time": "2024-10-17T06:00:57.461465",
     "exception": false,
     "start_time": "2024-10-17T06:00:57.421096",
     "status": "completed"
    },
    "tags": []
   },
   "source": [
    "## **Event name that has most performance time in hours**"
   ]
  },
  {
   "cell_type": "code",
   "execution_count": 144,
   "id": "758f8338",
   "metadata": {
    "papermill": {
     "duration": 0.06866,
     "end_time": "2024-10-17T06:00:57.570455",
     "exception": false,
     "start_time": "2024-10-17T06:00:57.501795",
     "status": "completed"
    },
    "tags": []
   },
   "outputs": [
    {
     "data": {
      "text/html": [
       "<div>\n",
       "<style scoped>\n",
       "    .dataframe tbody tr th:only-of-type {\n",
       "        vertical-align: middle;\n",
       "    }\n",
       "\n",
       "    .dataframe tbody tr th {\n",
       "        vertical-align: top;\n",
       "    }\n",
       "\n",
       "    .dataframe thead th {\n",
       "        text-align: right;\n",
       "    }\n",
       "</style>\n",
       "<table border=\"1\" class=\"dataframe\">\n",
       "  <thead>\n",
       "    <tr style=\"text-align: right;\">\n",
       "      <th></th>\n",
       "      <th>mean</th>\n",
       "      <th>count</th>\n",
       "      <th>min</th>\n",
       "      <th>max</th>\n",
       "    </tr>\n",
       "    <tr>\n",
       "      <th>Event name</th>\n",
       "      <th></th>\n",
       "      <th></th>\n",
       "      <th></th>\n",
       "      <th></th>\n",
       "    </tr>\n",
       "  </thead>\n",
       "  <tbody>\n",
       "    <tr>\n",
       "      <th>Hennur Bamboo 100 Km Ultra (IND)</th>\n",
       "      <td>18.674444</td>\n",
       "      <td>90</td>\n",
       "      <td>11.600000</td>\n",
       "      <td>23.916667</td>\n",
       "    </tr>\n",
       "    <tr>\n",
       "      <th>Jarakabande Eco Ultra 100 Km (IND)</th>\n",
       "      <td>18.355556</td>\n",
       "      <td>27</td>\n",
       "      <td>12.750000</td>\n",
       "      <td>22.566667</td>\n",
       "    </tr>\n",
       "    <tr>\n",
       "      <th>Bhatti Lakes 100 km (IND)</th>\n",
       "      <td>16.203846</td>\n",
       "      <td>39</td>\n",
       "      <td>11.866667</td>\n",
       "      <td>17.933333</td>\n",
       "    </tr>\n",
       "    <tr>\n",
       "      <th>Bangalore 100 km Ultra Marathon (IND)</th>\n",
       "      <td>15.286458</td>\n",
       "      <td>80</td>\n",
       "      <td>10.100000</td>\n",
       "      <td>23.233333</td>\n",
       "    </tr>\n",
       "    <tr>\n",
       "      <th>Pune 100 km UltraMarathon (IND)</th>\n",
       "      <td>15.018750</td>\n",
       "      <td>32</td>\n",
       "      <td>12.166667</td>\n",
       "      <td>16.833333</td>\n",
       "    </tr>\n",
       "  </tbody>\n",
       "</table>\n",
       "</div>"
      ],
      "text/plain": [
       "                                            mean  count        min        max\n",
       "Event name                                                                   \n",
       "Hennur Bamboo 100 Km Ultra (IND)       18.674444     90  11.600000  23.916667\n",
       "Jarakabande Eco Ultra 100 Km (IND)     18.355556     27  12.750000  22.566667\n",
       "Bhatti Lakes 100 km (IND)              16.203846     39  11.866667  17.933333\n",
       "Bangalore 100 km Ultra Marathon (IND)  15.286458     80  10.100000  23.233333\n",
       "Pune 100 km UltraMarathon (IND)        15.018750     32  12.166667  16.833333"
      ]
     },
     "execution_count": 144,
     "metadata": {},
     "output_type": "execute_result"
    }
   ],
   "source": [
    "most_performance_time=events_by_hours.sort_values(by='mean',ascending=False)\n",
    "most_performance_time.head()"
   ]
  },
  {
   "cell_type": "code",
   "execution_count": 146,
   "id": "88c9c024",
   "metadata": {
    "papermill": {
     "duration": 0.459984,
     "end_time": "2024-10-17T06:00:58.072216",
     "exception": false,
     "start_time": "2024-10-17T06:00:57.612232",
     "status": "completed"
    },
    "tags": []
   },
   "outputs": [
    {
     "data": {
      "image/png": "[encoded data removed]",
      "text/plain": [
       "<Figure size 1000x600 with 1 Axes>"
      ]
     },
     "metadata": {},
     "output_type": "display_data"
    }
   ],
   "source": [
    "plt.figure(figsize=(10, 6))\n",
    "plt.plot(most_performance_time.head().index, most_performance_time.head()['mean'], marker='o', color='b', linestyle='-')\n",
    "plt.xlabel('Event name')\n",
    "plt.ylabel('Time in hours')\n",
    "plt.title('Top 5 Event name that has most performance time in hours')\n",
    "plt.xticks(rotation=45)\n",
    "plt.grid(True)\n",
    "plt.tight_layout()\n",
    "plt.show()"
   ]
  },
  {
   "cell_type": "markdown",
   "id": "debaffcb",
   "metadata": {
    "papermill": {
     "duration": 0.041681,
     "end_time": "2024-10-17T06:00:58.155954",
     "exception": false,
     "start_time": "2024-10-17T06:00:58.114273",
     "status": "completed"
    },
    "tags": []
   },
   "source": [
    "## **Each Event with fastest Finish**"
   ]
  },
  {
   "cell_type": "code",
   "execution_count": 148,
   "id": "ccc1ca2c",
   "metadata": {
    "papermill": {
     "duration": 0.070946,
     "end_time": "2024-10-17T06:00:58.268603",
     "exception": false,
     "start_time": "2024-10-17T06:00:58.197657",
     "status": "completed"
    },
    "tags": []
   },
   "outputs": [
    {
     "data": {
      "text/html": [
       "<div>\n",
       "<style scoped>\n",
       "    .dataframe tbody tr th:only-of-type {\n",
       "        vertical-align: middle;\n",
       "    }\n",
       "\n",
       "    .dataframe tbody tr th {\n",
       "        vertical-align: top;\n",
       "    }\n",
       "\n",
       "    .dataframe thead th {\n",
       "        text-align: right;\n",
       "    }\n",
       "</style>\n",
       "<table border=\"1\" class=\"dataframe\">\n",
       "  <thead>\n",
       "    <tr style=\"text-align: right;\">\n",
       "      <th></th>\n",
       "      <th>mean</th>\n",
       "      <th>count</th>\n",
       "      <th>min</th>\n",
       "      <th>max</th>\n",
       "    </tr>\n",
       "    <tr>\n",
       "      <th>Event name</th>\n",
       "      <th></th>\n",
       "      <th></th>\n",
       "      <th></th>\n",
       "      <th></th>\n",
       "    </tr>\n",
       "  </thead>\n",
       "  <tbody>\n",
       "    <tr>\n",
       "      <th>Tata Ultra Marathon (IND)</th>\n",
       "      <td>6.080478</td>\n",
       "      <td>467</td>\n",
       "      <td>3.350000</td>\n",
       "      <td>8.200000</td>\n",
       "    </tr>\n",
       "    <tr>\n",
       "      <th>Hyderabad Ultra Marathon (IND)</th>\n",
       "      <td>6.070202</td>\n",
       "      <td>66</td>\n",
       "      <td>3.450000</td>\n",
       "      <td>9.183333</td>\n",
       "    </tr>\n",
       "    <tr>\n",
       "      <th>Ultra Marathon Bengaluru (IND)</th>\n",
       "      <td>5.993333</td>\n",
       "      <td>115</td>\n",
       "      <td>3.616667</td>\n",
       "      <td>8.233333</td>\n",
       "    </tr>\n",
       "    <tr>\n",
       "      <th>Ruggedian Kolhapur Run (IND)</th>\n",
       "      <td>5.803241</td>\n",
       "      <td>36</td>\n",
       "      <td>3.916667</td>\n",
       "      <td>8.366667</td>\n",
       "    </tr>\n",
       "    <tr>\n",
       "      <th>BNP Ultra (IND)</th>\n",
       "      <td>6.024272</td>\n",
       "      <td>103</td>\n",
       "      <td>3.933333</td>\n",
       "      <td>8.066667</td>\n",
       "    </tr>\n",
       "  </tbody>\n",
       "</table>\n",
       "</div>"
      ],
      "text/plain": [
       "                                    mean  count       min       max\n",
       "Event name                                                         \n",
       "Tata Ultra Marathon (IND)       6.080478    467  3.350000  8.200000\n",
       "Hyderabad Ultra Marathon (IND)  6.070202     66  3.450000  9.183333\n",
       "Ultra Marathon Bengaluru (IND)  5.993333    115  3.616667  8.233333\n",
       "Ruggedian Kolhapur Run (IND)    5.803241     36  3.916667  8.366667\n",
       "BNP Ultra (IND)                 6.024272    103  3.933333  8.066667"
      ]
     },
     "execution_count": 148,
     "metadata": {},
     "output_type": "execute_result"
    }
   ],
   "source": [
    "fastest_Finish=events_by_hours.sort_values(by='min',ascending=True)\n",
    "fastest_Finish.head()"
   ]
  },
  {
   "cell_type": "markdown",
   "id": "0bfc4d17",
   "metadata": {
    "papermill": {
     "duration": 0.042082,
     "end_time": "2024-10-17T06:00:58.353429",
     "exception": false,
     "start_time": "2024-10-17T06:00:58.311347",
     "status": "completed"
    },
    "tags": []
   },
   "source": [
    "## **Top 5 Event with fastest Finish**"
   ]
  },
  {
   "cell_type": "code",
   "execution_count": 150,
   "id": "c9ffca15",
   "metadata": {
    "papermill": {
     "duration": 0.329808,
     "end_time": "2024-10-17T06:00:58.726328",
     "exception": false,
     "start_time": "2024-10-17T06:00:58.396520",
     "status": "completed"
    },
    "tags": []
   },
   "outputs": [
    {
     "data": {
      "image/png": "[encoded data removed]",
      "text/plain": [
       "<Figure size 1000x600 with 1 Axes>"
      ]
     },
     "metadata": {},
     "output_type": "display_data"
    }
   ],
   "source": [
    "plt.figure(figsize=(10, 6))\n",
    "plt.bar(fastest_Finish.head().index, fastest_Finish.head()['min'])\n",
    "plt.xlabel('Event name')\n",
    "plt.ylabel('Time in hours')\n",
    "plt.title('Top 5 Event with fastest Finish')\n",
    "plt.xticks(rotation=45)\n",
    "plt.show()"
   ]
  },
  {
   "cell_type": "markdown",
   "id": "2683b7be",
   "metadata": {
    "papermill": {
     "duration": 0.042684,
     "end_time": "2024-10-17T06:00:58.812250",
     "exception": false,
     "start_time": "2024-10-17T06:00:58.769566",
     "status": "completed"
    },
    "tags": []
   },
   "source": [
    "## **Each Event with Slowest Finish**"
   ]
  },
  {
   "cell_type": "code",
   "execution_count": 152,
   "id": "6700be7e",
   "metadata": {
    "papermill": {
     "duration": 0.070318,
     "end_time": "2024-10-17T06:00:58.925655",
     "exception": false,
     "start_time": "2024-10-17T06:00:58.855337",
     "status": "completed"
    },
    "tags": []
   },
   "outputs": [
    {
     "data": {
      "text/html": [
       "<div>\n",
       "<style scoped>\n",
       "    .dataframe tbody tr th:only-of-type {\n",
       "        vertical-align: middle;\n",
       "    }\n",
       "\n",
       "    .dataframe tbody tr th {\n",
       "        vertical-align: top;\n",
       "    }\n",
       "\n",
       "    .dataframe thead th {\n",
       "        text-align: right;\n",
       "    }\n",
       "</style>\n",
       "<table border=\"1\" class=\"dataframe\">\n",
       "  <thead>\n",
       "    <tr style=\"text-align: right;\">\n",
       "      <th></th>\n",
       "      <th>mean</th>\n",
       "      <th>count</th>\n",
       "      <th>min</th>\n",
       "      <th>max</th>\n",
       "    </tr>\n",
       "    <tr>\n",
       "      <th>Event name</th>\n",
       "      <th></th>\n",
       "      <th></th>\n",
       "      <th></th>\n",
       "      <th></th>\n",
       "    </tr>\n",
       "  </thead>\n",
       "  <tbody>\n",
       "    <tr>\n",
       "      <th>Hennur Bamboo 100 Km Ultra (IND)</th>\n",
       "      <td>18.674444</td>\n",
       "      <td>90</td>\n",
       "      <td>11.600000</td>\n",
       "      <td>23.916667</td>\n",
       "    </tr>\n",
       "    <tr>\n",
       "      <th>Bangalore 100 km Ultra Marathon (IND)</th>\n",
       "      <td>15.286458</td>\n",
       "      <td>80</td>\n",
       "      <td>10.100000</td>\n",
       "      <td>23.233333</td>\n",
       "    </tr>\n",
       "    <tr>\n",
       "      <th>Jarakabande Eco Ultra 100 Km (IND)</th>\n",
       "      <td>18.355556</td>\n",
       "      <td>27</td>\n",
       "      <td>12.750000</td>\n",
       "      <td>22.566667</td>\n",
       "    </tr>\n",
       "    <tr>\n",
       "      <th>Jarakabande Eco Ultra 50 Km (IND)</th>\n",
       "      <td>8.152299</td>\n",
       "      <td>29</td>\n",
       "      <td>4.966667</td>\n",
       "      <td>18.250000</td>\n",
       "    </tr>\n",
       "    <tr>\n",
       "      <th>Bhatti Lakes 100 km (IND)</th>\n",
       "      <td>16.203846</td>\n",
       "      <td>39</td>\n",
       "      <td>11.866667</td>\n",
       "      <td>17.933333</td>\n",
       "    </tr>\n",
       "  </tbody>\n",
       "</table>\n",
       "</div>"
      ],
      "text/plain": [
       "                                            mean  count        min        max\n",
       "Event name                                                                   \n",
       "Hennur Bamboo 100 Km Ultra (IND)       18.674444     90  11.600000  23.916667\n",
       "Bangalore 100 km Ultra Marathon (IND)  15.286458     80  10.100000  23.233333\n",
       "Jarakabande Eco Ultra 100 Km (IND)     18.355556     27  12.750000  22.566667\n",
       "Jarakabande Eco Ultra 50 Km (IND)       8.152299     29   4.966667  18.250000\n",
       "Bhatti Lakes 100 km (IND)              16.203846     39  11.866667  17.933333"
      ]
     },
     "execution_count": 152,
     "metadata": {},
     "output_type": "execute_result"
    }
   ],
   "source": [
    "Slowest_Finish=events_by_hours.sort_values(by='max',ascending=False)\n",
    "Slowest_Finish.head()"
   ]
  },
  {
   "cell_type": "markdown",
   "id": "bcff3596",
   "metadata": {
    "papermill": {
     "duration": 0.043987,
     "end_time": "2024-10-17T06:00:59.014807",
     "exception": false,
     "start_time": "2024-10-17T06:00:58.970820",
     "status": "completed"
    },
    "tags": []
   },
   "source": [
    "## **Top 5 Event with slowest Finish**"
   ]
  },
  {
   "cell_type": "code",
   "execution_count": 154,
   "id": "bc645798",
   "metadata": {
    "papermill": {
     "duration": 0.357592,
     "end_time": "2024-10-17T06:00:59.416583",
     "exception": false,
     "start_time": "2024-10-17T06:00:59.058991",
     "status": "completed"
    },
    "tags": []
   },
   "outputs": [
    {
     "data": {
      "image/png": "[encoded data removed]",
      "text/plain": [
       "<Figure size 1000x600 with 1 Axes>"
      ]
     },
     "metadata": {},
     "output_type": "display_data"
    }
   ],
   "source": [
    "plt.figure(figsize=(10, 6))\n",
    "plt.bar(Slowest_Finish.head().index, Slowest_Finish.head()['max'],color='green')\n",
    "plt.xlabel('Event name')\n",
    "plt.ylabel('Time in hours')\n",
    "plt.title('Top 5 Event with slowest Finish')\n",
    "plt.xticks(rotation=45)\n",
    "plt.show()"
   ]
  },
  {
   "cell_type": "markdown",
   "id": "a252d793",
   "metadata": {
    "papermill": {
     "duration": 0.04762,
     "end_time": "2024-10-17T06:00:59.528470",
     "exception": false,
     "start_time": "2024-10-17T06:00:59.480850",
     "status": "completed"
    },
    "tags": []
   },
   "source": [
    "## **Does season has effect in Athlete performance**"
   ]
  },
  {
   "cell_type": "markdown",
   "id": "559c05c7-5451-43bc-8a7d-a4f6a94f5794",
   "metadata": {},
   "source": [
    "**Seasons in India**\n",
    "- Spring (2 - 3)\n",
    "- Summer (4 - 8)\n",
    "- Fall (9 - 11)\n",
    "- Winter (11 - 2)"
   ]
  },
  {
   "cell_type": "code",
   "execution_count": 157,
   "id": "c5ac4e73",
   "metadata": {
    "papermill": {
     "duration": 0.082351,
     "end_time": "2024-10-17T06:00:59.759652",
     "exception": false,
     "start_time": "2024-10-17T06:00:59.677301",
     "status": "completed"
    },
    "tags": []
   },
   "outputs": [
    {
     "data": {
      "text/html": [
       "<div>\n",
       "<style scoped>\n",
       "    .dataframe tbody tr th:only-of-type {\n",
       "        vertical-align: middle;\n",
       "    }\n",
       "\n",
       "    .dataframe tbody tr th {\n",
       "        vertical-align: top;\n",
       "    }\n",
       "\n",
       "    .dataframe thead th {\n",
       "        text-align: right;\n",
       "    }\n",
       "</style>\n",
       "<table border=\"1\" class=\"dataframe\">\n",
       "  <thead>\n",
       "    <tr style=\"text-align: right;\">\n",
       "      <th></th>\n",
       "      <th>index</th>\n",
       "      <th>Year of event</th>\n",
       "      <th>Event dates</th>\n",
       "      <th>Event name</th>\n",
       "      <th>Event distance/length</th>\n",
       "      <th>Event number of finishers</th>\n",
       "      <th>Athlete performance</th>\n",
       "      <th>Athlete country</th>\n",
       "      <th>Athlete gender</th>\n",
       "      <th>Athlete age category</th>\n",
       "      <th>Athlete average speed</th>\n",
       "      <th>Athlete ID</th>\n",
       "      <th>Athlete_Age</th>\n",
       "      <th>Athlete_performance_in_hours</th>\n",
       "      <th>seasons</th>\n",
       "    </tr>\n",
       "  </thead>\n",
       "  <tbody>\n",
       "    <tr>\n",
       "      <th>0</th>\n",
       "      <td>5843</td>\n",
       "      <td>2018</td>\n",
       "      <td>2018-03-18</td>\n",
       "      <td>TITI 50km Road Ultra Marathon (MAS)</td>\n",
       "      <td>50km</td>\n",
       "      <td>282</td>\n",
       "      <td>2025-02-24 08:44:07</td>\n",
       "      <td>IND</td>\n",
       "      <td>M</td>\n",
       "      <td>M40</td>\n",
       "      <td>5.724</td>\n",
       "      <td>5211</td>\n",
       "      <td>41</td>\n",
       "      <td>8.733333</td>\n",
       "      <td>spring</td>\n",
       "    </tr>\n",
       "    <tr>\n",
       "      <th>1</th>\n",
       "      <td>16245</td>\n",
       "      <td>2018</td>\n",
       "      <td>2018-03-17</td>\n",
       "      <td>Om Die Dam 50km (RSA)</td>\n",
       "      <td>50km</td>\n",
       "      <td>2491</td>\n",
       "      <td>2025-02-24 05:18:55</td>\n",
       "      <td>IND</td>\n",
       "      <td>M</td>\n",
       "      <td>M23</td>\n",
       "      <td>9.407</td>\n",
       "      <td>15497</td>\n",
       "      <td>30</td>\n",
       "      <td>5.300000</td>\n",
       "      <td>spring</td>\n",
       "    </tr>\n",
       "    <tr>\n",
       "      <th>2</th>\n",
       "      <td>23416</td>\n",
       "      <td>2018</td>\n",
       "      <td>2018-03-10</td>\n",
       "      <td>North C Trail (BEL)</td>\n",
       "      <td>50km</td>\n",
       "      <td>192</td>\n",
       "      <td>2025-02-24 08:04:30</td>\n",
       "      <td>IND</td>\n",
       "      <td>F</td>\n",
       "      <td>W23</td>\n",
       "      <td>6.192</td>\n",
       "      <td>22117</td>\n",
       "      <td>28</td>\n",
       "      <td>8.066667</td>\n",
       "      <td>spring</td>\n",
       "    </tr>\n",
       "    <tr>\n",
       "      <th>3</th>\n",
       "      <td>24745</td>\n",
       "      <td>2018</td>\n",
       "      <td>2018-03-10</td>\n",
       "      <td>Crazy Desert Trail Race 50k (USA)</td>\n",
       "      <td>50km</td>\n",
       "      <td>59</td>\n",
       "      <td>2025-02-24 06:21:38</td>\n",
       "      <td>IND</td>\n",
       "      <td>M</td>\n",
       "      <td>M23</td>\n",
       "      <td>7.861</td>\n",
       "      <td>23372</td>\n",
       "      <td>31</td>\n",
       "      <td>6.350000</td>\n",
       "      <td>spring</td>\n",
       "    </tr>\n",
       "    <tr>\n",
       "      <th>4</th>\n",
       "      <td>25299</td>\n",
       "      <td>2018</td>\n",
       "      <td>2018-03-10</td>\n",
       "      <td>Dirty Duo Trail Run (CAN)</td>\n",
       "      <td>50km</td>\n",
       "      <td>34</td>\n",
       "      <td>2025-02-24 04:58:08</td>\n",
       "      <td>IND</td>\n",
       "      <td>M</td>\n",
       "      <td>M35</td>\n",
       "      <td>10.063</td>\n",
       "      <td>23912</td>\n",
       "      <td>38</td>\n",
       "      <td>4.966667</td>\n",
       "      <td>spring</td>\n",
       "    </tr>\n",
       "  </tbody>\n",
       "</table>\n",
       "</div>"
      ],
      "text/plain": [
       "   index  Year of event Event dates                           Event name  \\\n",
       "0   5843           2018  2018-03-18  TITI 50km Road Ultra Marathon (MAS)   \n",
       "1  16245           2018  2018-03-17                Om Die Dam 50km (RSA)   \n",
       "2  23416           2018  2018-03-10                  North C Trail (BEL)   \n",
       "3  24745           2018  2018-03-10    Crazy Desert Trail Race 50k (USA)   \n",
       "4  25299           2018  2018-03-10            Dirty Duo Trail Run (CAN)   \n",
       "\n",
       "  Event distance/length  Event number of finishers Athlete performance  \\\n",
       "0                  50km                        282 2025-02-24 08:44:07   \n",
       "1                  50km                       2491 2025-02-24 05:18:55   \n",
       "2                  50km                        192 2025-02-24 08:04:30   \n",
       "3                  50km                         59 2025-02-24 06:21:38   \n",
       "4                  50km                         34 2025-02-24 04:58:08   \n",
       "\n",
       "  Athlete country Athlete gender Athlete age category  Athlete average speed  \\\n",
       "0             IND              M                  M40                  5.724   \n",
       "1             IND              M                  M23                  9.407   \n",
       "2             IND              F                  W23                  6.192   \n",
       "3             IND              M                  M23                  7.861   \n",
       "4             IND              M                  M35                 10.063   \n",
       "\n",
       "   Athlete ID  Athlete_Age  Athlete_performance_in_hours seasons  \n",
       "0        5211           41                      8.733333  spring  \n",
       "1       15497           30                      5.300000  spring  \n",
       "2       22117           28                      8.066667  spring  \n",
       "3       23372           31                      6.350000  spring  \n",
       "4       23912           38                      4.966667  spring  "
      ]
     },
     "execution_count": 157,
     "metadata": {},
     "output_type": "execute_result"
    }
   ],
   "source": [
    "df['seasons']=df['Event dates'].dt.month.apply(lambda x: 'winter' if x > 11 else 'fall' if x > 8 else 'summer' if x > 3 else 'spring' if x > 2 else 'winter')\n",
    "df.head()"
   ]
  },
  {
   "cell_type": "markdown",
   "id": "6fc06b7b",
   "metadata": {
    "papermill": {
     "duration": 0.045562,
     "end_time": "2024-10-17T06:00:59.851971",
     "exception": false,
     "start_time": "2024-10-17T06:00:59.806409",
     "status": "completed"
    },
    "tags": []
   },
   "source": [
    "## **Season wise participation**"
   ]
  },
  {
   "cell_type": "code",
   "execution_count": 159,
   "id": "22573be6",
   "metadata": {
    "papermill": {
     "duration": 0.061219,
     "end_time": "2024-10-17T06:00:59.959093",
     "exception": false,
     "start_time": "2024-10-17T06:00:59.897874",
     "status": "completed"
    },
    "tags": []
   },
   "outputs": [
    {
     "data": {
      "text/plain": [
       "seasons\n",
       "winter    3453\n",
       "fall      1678\n",
       "summer     990\n",
       "spring     232\n",
       "Name: count, dtype: int64"
      ]
     },
     "execution_count": 159,
     "metadata": {},
     "output_type": "execute_result"
    }
   ],
   "source": [
    "season_count=df.seasons.value_counts()\n",
    "season_count"
   ]
  },
  {
   "cell_type": "code",
   "execution_count": 175,
   "id": "a91d9225",
   "metadata": {
    "papermill": {
     "duration": 2.535612,
     "end_time": "2024-10-17T06:01:02.543650",
     "exception": false,
     "start_time": "2024-10-17T06:01:00.008038",
     "status": "completed"
    },
    "tags": []
   },
   "outputs": [
    {
     "data": {
      "application/vnd.plotly.v1+json": {
       "config": {
        "plotlyServerURL": "https://plot.ly"
       },
       "data": [
        {
         "domain": {
          "x": [
           0,
           1
          ],
          "y": [
           0,
           1
          ]
         },
         "hole": 0.6,
         "hovertemplate": "label=%{label}<br>value=%{value}<extra></extra>",
         "labels": [
          "winter",
          "fall",
          "summer",
          "spring"
         ],
         "legendgroup": "",
         "name": "",
         "showlegend": true,
         "type": "pie",
         "values": [
          3453,
          1678,
          990,
          232
         ]
        }
       ],
       "layout": {
        "height": 700,
        "legend": {
         "tracegroupgap": 0
        },
        "margin": {
         "t": 60
        },
        "template": {
         "data": {
          "bar": [
           {
            "error_x": {
             "color": "#2a3f5f"
            },
            "error_y": {
             "color": "#2a3f5f"
            },
            "marker": {
             "line": {
              "color": "#E5ECF6",
              "width": 0.5
             },
             "pattern": {
              "fillmode": "overlay",
              "size": 10,
              "solidity": 0.2
             }
            },
            "type": "bar"
           }
          ],
          "barpolar": [
           {
            "marker": {
             "line": {
              "color": "#E5ECF6",
              "width": 0.5
             },
             "pattern": {
              "fillmode": "overlay",
              "size": 10,
              "solidity": 0.2
             }
            },
            "type": "barpolar"
           }
          ],
          "carpet": [
           {
            "aaxis": {
             "endlinecolor": "#2a3f5f",
             "gridcolor": "white",
             "linecolor": "white",
             "minorgridcolor": "white",
             "startlinecolor": "#2a3f5f"
            },
            "baxis": {
             "endlinecolor": "#2a3f5f",
             "gridcolor": "white",
             "linecolor": "white",
             "minorgridcolor": "white",
             "startlinecolor": "#2a3f5f"
            },
            "type": "carpet"
           }
          ],
          "choropleth": [
           {
            "colorbar": {
             "outlinewidth": 0,
             "ticks": ""
            },
            "type": "choropleth"
           }
          ],
          "contour": [
           {
            "colorbar": {
             "outlinewidth": 0,
             "ticks": ""
            },
            "colorscale": [
             [
              0,
              "#0d0887"
             ],
             [
              0.1111111111111111,
              "#46039f"
             ],
             [
              0.2222222222222222,
              "#7201a8"
             ],
             [
              0.3333333333333333,
              "#9c179e"
             ],
             [
              0.4444444444444444,
              "#bd3786"
             ],
             [
              0.5555555555555556,
              "#d8576b"
             ],
             [
              0.6666666666666666,
              "#ed7953"
             ],
             [
              0.7777777777777778,
              "#fb9f3a"
             ],
             [
              0.8888888888888888,
              "#fdca26"
             ],
             [
              1,
              "#f0f921"
             ]
            ],
            "type": "contour"
           }
          ],
          "contourcarpet": [
           {
            "colorbar": {
             "outlinewidth": 0,
             "ticks": ""
            },
            "type": "contourcarpet"
           }
          ],
          "heatmap": [
           {
            "colorbar": {
             "outlinewidth": 0,
             "ticks": ""
            },
            "colorscale": [
             [
              0,
              "#0d0887"
             ],
             [
              0.1111111111111111,
              "#46039f"
             ],
             [
              0.2222222222222222,
              "#7201a8"
             ],
             [
              0.3333333333333333,
              "#9c179e"
             ],
             [
              0.4444444444444444,
              "#bd3786"
             ],
             [
              0.5555555555555556,
              "#d8576b"
             ],
             [
              0.6666666666666666,
              "#ed7953"
             ],
             [
              0.7777777777777778,
              "#fb9f3a"
             ],
             [
              0.8888888888888888,
              "#fdca26"
             ],
             [
              1,
              "#f0f921"
             ]
            ],
            "type": "heatmap"
           }
          ],
          "heatmapgl": [
           {
            "colorbar": {
             "outlinewidth": 0,
             "ticks": ""
            },
            "colorscale": [
             [
              0,
              "#0d0887"
             ],
             [
              0.1111111111111111,
              "#46039f"
             ],
             [
              0.2222222222222222,
              "#7201a8"
             ],
             [
              0.3333333333333333,
              "#9c179e"
             ],
             [
              0.4444444444444444,
              "#bd3786"
             ],
             [
              0.5555555555555556,
              "#d8576b"
             ],
             [
              0.6666666666666666,
              "#ed7953"
             ],
             [
              0.7777777777777778,
              "#fb9f3a"
             ],
             [
              0.8888888888888888,
              "#fdca26"
             ],
             [
              1,
              "#f0f921"
             ]
            ],
            "type": "heatmapgl"
           }
          ],
          "histogram": [
           {
            "marker": {
             "pattern": {
              "fillmode": "overlay",
              "size": 10,
              "solidity": 0.2
             }
            },
            "type": "histogram"
           }
          ],
          "histogram2d": [
           {
            "colorbar": {
             "outlinewidth": 0,
             "ticks": ""
            },
            "colorscale": [
             [
              0,
              "#0d0887"
             ],
             [
              0.1111111111111111,
              "#46039f"
             ],
             [
              0.2222222222222222,
              "#7201a8"
             ],
             [
              0.3333333333333333,
              "#9c179e"
             ],
             [
              0.4444444444444444,
              "#bd3786"
             ],
             [
              0.5555555555555556,
              "#d8576b"
             ],
             [
              0.6666666666666666,
              "#ed7953"
             ],
             [
              0.7777777777777778,
              "#fb9f3a"
             ],
             [
              0.8888888888888888,
              "#fdca26"
             ],
             [
              1,
              "#f0f921"
             ]
            ],
            "type": "histogram2d"
           }
          ],
          "histogram2dcontour": [
           {
            "colorbar": {
             "outlinewidth": 0,
             "ticks": ""
            },
            "colorscale": [
             [
              0,
              "#0d0887"
             ],
             [
              0.1111111111111111,
              "#46039f"
             ],
             [
              0.2222222222222222,
              "#7201a8"
             ],
             [
              0.3333333333333333,
              "#9c179e"
             ],
             [
              0.4444444444444444,
              "#bd3786"
             ],
             [
              0.5555555555555556,
              "#d8576b"
             ],
             [
              0.6666666666666666,
              "#ed7953"
             ],
             [
              0.7777777777777778,
              "#fb9f3a"
             ],
             [
              0.8888888888888888,
              "#fdca26"
             ],
             [
              1,
              "#f0f921"
             ]
            ],
            "type": "histogram2dcontour"
           }
          ],
          "mesh3d": [
           {
            "colorbar": {
             "outlinewidth": 0,
             "ticks": ""
            },
            "type": "mesh3d"
           }
          ],
          "parcoords": [
           {
            "line": {
             "colorbar": {
              "outlinewidth": 0,
              "ticks": ""
             }
            },
            "type": "parcoords"
           }
          ],
          "pie": [
           {
            "automargin": true,
            "type": "pie"
           }
          ],
          "scatter": [
           {
            "fillpattern": {
             "fillmode": "overlay",
             "size": 10,
             "solidity": 0.2
            },
            "type": "scatter"
           }
          ],
          "scatter3d": [
           {
            "line": {
             "colorbar": {
              "outlinewidth": 0,
              "ticks": ""
             }
            },
            "marker": {
             "colorbar": {
              "outlinewidth": 0,
              "ticks": ""
             }
            },
            "type": "scatter3d"
           }
          ],
          "scattercarpet": [
           {
            "marker": {
             "colorbar": {
              "outlinewidth": 0,
              "ticks": ""
             }
            },
            "type": "scattercarpet"
           }
          ],
          "scattergeo": [
           {
            "marker": {
             "colorbar": {
              "outlinewidth": 0,
              "ticks": ""
             }
            },
            "type": "scattergeo"
           }
          ],
          "scattergl": [
           {
            "marker": {
             "colorbar": {
              "outlinewidth": 0,
              "ticks": ""
             }
            },
            "type": "scattergl"
           }
          ],
          "scattermapbox": [
           {
            "marker": {
             "colorbar": {
              "outlinewidth": 0,
              "ticks": ""
             }
            },
            "type": "scattermapbox"
           }
          ],
          "scatterpolar": [
           {
            "marker": {
             "colorbar": {
              "outlinewidth": 0,
              "ticks": ""
             }
            },
            "type": "scatterpolar"
           }
          ],
          "scatterpolargl": [
           {
            "marker": {
             "colorbar": {
              "outlinewidth": 0,
              "ticks": ""
             }
            },
            "type": "scatterpolargl"
           }
          ],
          "scatterternary": [
           {
            "marker": {
             "colorbar": {
              "outlinewidth": 0,
              "ticks": ""
             }
            },
            "type": "scatterternary"
           }
          ],
          "surface": [
           {
            "colorbar": {
             "outlinewidth": 0,
             "ticks": ""
            },
            "colorscale": [
             [
              0,
              "#0d0887"
             ],
             [
              0.1111111111111111,
              "#46039f"
             ],
             [
              0.2222222222222222,
              "#7201a8"
             ],
             [
              0.3333333333333333,
              "#9c179e"
             ],
             [
              0.4444444444444444,
              "#bd3786"
             ],
             [
              0.5555555555555556,
              "#d8576b"
             ],
             [
              0.6666666666666666,
              "#ed7953"
             ],
             [
              0.7777777777777778,
              "#fb9f3a"
             ],
             [
              0.8888888888888888,
              "#fdca26"
             ],
             [
              1,
              "#f0f921"
             ]
            ],
            "type": "surface"
           }
          ],
          "table": [
           {
            "cells": {
             "fill": {
              "color": "#EBF0F8"
             },
             "line": {
              "color": "white"
             }
            },
            "header": {
             "fill": {
              "color": "#C8D4E3"
             },
             "line": {
              "color": "white"
             }
            },
            "type": "table"
           }
          ]
         },
         "layout": {
          "annotationdefaults": {
           "arrowcolor": "#2a3f5f",
           "arrowhead": 0,
           "arrowwidth": 1
          },
          "autotypenumbers": "strict",
          "coloraxis": {
           "colorbar": {
            "outlinewidth": 0,
            "ticks": ""
           }
          },
          "colorscale": {
           "diverging": [
            [
             0,
             "#8e0152"
            ],
            [
             0.1,
             "#c51b7d"
            ],
            [
             0.2,
             "#de77ae"
            ],
            [
             0.3,
             "#f1b6da"
            ],
            [
             0.4,
             "#fde0ef"
            ],
            [
             0.5,
             "#f7f7f7"
            ],
            [
             0.6,
             "#e6f5d0"
            ],
            [
             0.7,
             "#b8e186"
            ],
            [
             0.8,
             "#7fbc41"
            ],
            [
             0.9,
             "#4d9221"
            ],
            [
             1,
             "#276419"
            ]
           ],
           "sequential": [
            [
             0,
             "#0d0887"
            ],
            [
             0.1111111111111111,
             "#46039f"
            ],
            [
             0.2222222222222222,
             "#7201a8"
            ],
            [
             0.3333333333333333,
             "#9c179e"
            ],
            [
             0.4444444444444444,
             "#bd3786"
            ],
            [
             0.5555555555555556,
             "#d8576b"
            ],
            [
             0.6666666666666666,
             "#ed7953"
            ],
            [
             0.7777777777777778,
             "#fb9f3a"
            ],
            [
             0.8888888888888888,
             "#fdca26"
            ],
            [
             1,
             "#f0f921"
            ]
           ],
           "sequentialminus": [
            [
             0,
             "#0d0887"
            ],
            [
             0.1111111111111111,
             "#46039f"
            ],
            [
             0.2222222222222222,
             "#7201a8"
            ],
            [
             0.3333333333333333,
             "#9c179e"
            ],
            [
             0.4444444444444444,
             "#bd3786"
            ],
            [
             0.5555555555555556,
             "#d8576b"
            ],
            [
             0.6666666666666666,
             "#ed7953"
            ],
            [
             0.7777777777777778,
             "#fb9f3a"
            ],
            [
             0.8888888888888888,
             "#fdca26"
            ],
            [
             1,
             "#f0f921"
            ]
           ]
          },
          "colorway": [
           "#636efa",
           "#EF553B",
           "#00cc96",
           "#ab63fa",
           "#FFA15A",
           "#19d3f3",
           "#FF6692",
           "#B6E880",
           "#FF97FF",
           "#FECB52"
          ],
          "font": {
           "color": "#2a3f5f"
          },
          "geo": {
           "bgcolor": "white",
           "lakecolor": "white",
           "landcolor": "#E5ECF6",
           "showlakes": true,
           "showland": true,
           "subunitcolor": "white"
          },
          "hoverlabel": {
           "align": "left"
          },
          "hovermode": "closest",
          "mapbox": {
           "style": "light"
          },
          "paper_bgcolor": "white",
          "plot_bgcolor": "#E5ECF6",
          "polar": {
           "angularaxis": {
            "gridcolor": "white",
            "linecolor": "white",
            "ticks": ""
           },
           "bgcolor": "#E5ECF6",
           "radialaxis": {
            "gridcolor": "white",
            "linecolor": "white",
            "ticks": ""
           }
          },
          "scene": {
           "xaxis": {
            "backgroundcolor": "#E5ECF6",
            "gridcolor": "white",
            "gridwidth": 2,
            "linecolor": "white",
            "showbackground": true,
            "ticks": "",
            "zerolinecolor": "white"
           },
           "yaxis": {
            "backgroundcolor": "#E5ECF6",
            "gridcolor": "white",
            "gridwidth": 2,
            "linecolor": "white",
            "showbackground": true,
            "ticks": "",
            "zerolinecolor": "white"
           },
           "zaxis": {
            "backgroundcolor": "#E5ECF6",
            "gridcolor": "white",
            "gridwidth": 2,
            "linecolor": "white",
            "showbackground": true,
            "ticks": "",
            "zerolinecolor": "white"
           }
          },
          "shapedefaults": {
           "line": {
            "color": "#2a3f5f"
           }
          },
          "ternary": {
           "aaxis": {
            "gridcolor": "white",
            "linecolor": "white",
            "ticks": ""
           },
           "baxis": {
            "gridcolor": "white",
            "linecolor": "white",
            "ticks": ""
           },
           "bgcolor": "#E5ECF6",
           "caxis": {
            "gridcolor": "white",
            "linecolor": "white",
            "ticks": ""
           }
          },
          "title": {
           "x": 0.05
          },
          "xaxis": {
           "automargin": true,
           "gridcolor": "white",
           "linecolor": "white",
           "ticks": "",
           "title": {
            "standoff": 15
           },
           "zerolinecolor": "white",
           "zerolinewidth": 2
          },
          "yaxis": {
           "automargin": true,
           "gridcolor": "white",
           "linecolor": "white",
           "ticks": "",
           "title": {
            "standoff": 15
           },
           "zerolinecolor": "white",
           "zerolinewidth": 2
          }
         }
        },
        "width": 700
       }
      },
      "image/png": "[encoded data removed]",
      "text/html": [
       "<div>                            <div id=\"561df63d-2dab-45da-9e20-5444b6f84c63\" class=\"plotly-graph-div\" style=\"height:700px; width:700px;\"></div>            <script type=\"text/javascript\">                require([\"plotly\"], function(Plotly) {                    window.PLOTLYENV=window.PLOTLYENV || {};                                    if (document.getElementById(\"561df63d-2dab-45da-9e20-5444b6f84c63\")) {                    Plotly.newPlot(                        \"561df63d-2dab-45da-9e20-5444b6f84c63\",                        [{\"domain\":{\"x\":[0.0,1.0],\"y\":[0.0,1.0]},\"hole\":0.6,\"hovertemplate\":\"label=%{label}\\u003cbr\\u003evalue=%{value}\\u003cextra\\u003e\\u003c\\u002fextra\\u003e\",\"labels\":[\"winter\",\"fall\",\"summer\",\"spring\"],\"legendgroup\":\"\",\"name\":\"\",\"showlegend\":true,\"values\":[3453,1678,990,232],\"type\":\"pie\"}],                        {\"template\":{\"data\":{\"histogram2dcontour\":[{\"type\":\"histogram2dcontour\",\"colorbar\":{\"outlinewidth\":0,\"ticks\":\"\"},\"colorscale\":[[0.0,\"#0d0887\"],[0.1111111111111111,\"#46039f\"],[0.2222222222222222,\"#7201a8\"],[0.3333333333333333,\"#9c179e\"],[0.4444444444444444,\"#bd3786\"],[0.5555555555555556,\"#d8576b\"],[0.6666666666666666,\"#ed7953\"],[0.7777777777777778,\"#fb9f3a\"],[0.8888888888888888,\"#fdca26\"],[1.0,\"#f0f921\"]]}],\"choropleth\":[{\"type\":\"choropleth\",\"colorbar\":{\"outlinewidth\":0,\"ticks\":\"\"}}],\"histogram2d\":[{\"type\":\"histogram2d\",\"colorbar\":{\"outlinewidth\":0,\"ticks\":\"\"},\"colorscale\":[[0.0,\"#0d0887\"],[0.1111111111111111,\"#46039f\"],[0.2222222222222222,\"#7201a8\"],[0.3333333333333333,\"#9c179e\"],[0.4444444444444444,\"#bd3786\"],[0.5555555555555556,\"#d8576b\"],[0.6666666666666666,\"#ed7953\"],[0.7777777777777778,\"#fb9f3a\"],[0.8888888888888888,\"#fdca26\"],[1.0,\"#f0f921\"]]}],\"heatmap\":[{\"type\":\"heatmap\",\"colorbar\":{\"outlinewidth\":0,\"ticks\":\"\"},\"colorscale\":[[0.0,\"#0d0887\"],[0.1111111111111111,\"#46039f\"],[0.2222222222222222,\"#7201a8\"],[0.3333333333333333,\"#9c179e\"],[0.4444444444444444,\"#bd3786\"],[0.5555555555555556,\"#d8576b\"],[0.6666666666666666,\"#ed7953\"],[0.7777777777777778,\"#fb9f3a\"],[0.8888888888888888,\"#fdca26\"],[1.0,\"#f0f921\"]]}],\"heatmapgl\":[{\"type\":\"heatmapgl\",\"colorbar\":{\"outlinewidth\":0,\"ticks\":\"\"},\"colorscale\":[[0.0,\"#0d0887\"],[0.1111111111111111,\"#46039f\"],[0.2222222222222222,\"#7201a8\"],[0.3333333333333333,\"#9c179e\"],[0.4444444444444444,\"#bd3786\"],[0.5555555555555556,\"#d8576b\"],[0.6666666666666666,\"#ed7953\"],[0.7777777777777778,\"#fb9f3a\"],[0.8888888888888888,\"#fdca26\"],[1.0,\"#f0f921\"]]}],\"contourcarpet\":[{\"type\":\"contourcarpet\",\"colorbar\":{\"outlinewidth\":0,\"ticks\":\"\"}}],\"contour\":[{\"type\":\"contour\",\"colorbar\":{\"outlinewidth\":0,\"ticks\":\"\"},\"colorscale\":[[0.0,\"#0d0887\"],[0.1111111111111111,\"#46039f\"],[0.2222222222222222,\"#7201a8\"],[0.3333333333333333,\"#9c179e\"],[0.4444444444444444,\"#bd3786\"],[0.5555555555555556,\"#d8576b\"],[0.6666666666666666,\"#ed7953\"],[0.7777777777777778,\"#fb9f3a\"],[0.8888888888888888,\"#fdca26\"],[1.0,\"#f0f921\"]]}],\"surface\":[{\"type\":\"surface\",\"colorbar\":{\"outlinewidth\":0,\"ticks\":\"\"},\"colorscale\":[[0.0,\"#0d0887\"],[0.1111111111111111,\"#46039f\"],[0.2222222222222222,\"#7201a8\"],[0.3333333333333333,\"#9c179e\"],[0.4444444444444444,\"#bd3786\"],[0.5555555555555556,\"#d8576b\"],[0.6666666666666666,\"#ed7953\"],[0.7777777777777778,\"#fb9f3a\"],[0.8888888888888888,\"#fdca26\"],[1.0,\"#f0f921\"]]}],\"mesh3d\":[{\"type\":\"mesh3d\",\"colorbar\":{\"outlinewidth\":0,\"ticks\":\"\"}}],\"scatter\":[{\"fillpattern\":{\"fillmode\":\"overlay\",\"size\":10,\"solidity\":0.2},\"type\":\"scatter\"}],\"parcoords\":[{\"type\":\"parcoords\",\"line\":{\"colorbar\":{\"outlinewidth\":0,\"ticks\":\"\"}}}],\"scatterpolargl\":[{\"type\":\"scatterpolargl\",\"marker\":{\"colorbar\":{\"outlinewidth\":0,\"ticks\":\"\"}}}],\"bar\":[{\"error_x\":{\"color\":\"#2a3f5f\"},\"error_y\":{\"color\":\"#2a3f5f\"},\"marker\":{\"line\":{\"color\":\"#E5ECF6\",\"width\":0.5},\"pattern\":{\"fillmode\":\"overlay\",\"size\":10,\"solidity\":0.2}},\"type\":\"bar\"}],\"scattergeo\":[{\"type\":\"scattergeo\",\"marker\":{\"colorbar\":{\"outlinewidth\":0,\"ticks\":\"\"}}}],\"scatterpolar\":[{\"type\":\"scatterpolar\",\"marker\":{\"colorbar\":{\"outlinewidth\":0,\"ticks\":\"\"}}}],\"histogram\":[{\"marker\":{\"pattern\":{\"fillmode\":\"overlay\",\"size\":10,\"solidity\":0.2}},\"type\":\"histogram\"}],\"scattergl\":[{\"type\":\"scattergl\",\"marker\":{\"colorbar\":{\"outlinewidth\":0,\"ticks\":\"\"}}}],\"scatter3d\":[{\"type\":\"scatter3d\",\"line\":{\"colorbar\":{\"outlinewidth\":0,\"ticks\":\"\"}},\"marker\":{\"colorbar\":{\"outlinewidth\":0,\"ticks\":\"\"}}}],\"scattermapbox\":[{\"type\":\"scattermapbox\",\"marker\":{\"colorbar\":{\"outlinewidth\":0,\"ticks\":\"\"}}}],\"scatterternary\":[{\"type\":\"scatterternary\",\"marker\":{\"colorbar\":{\"outlinewidth\":0,\"ticks\":\"\"}}}],\"scattercarpet\":[{\"type\":\"scattercarpet\",\"marker\":{\"colorbar\":{\"outlinewidth\":0,\"ticks\":\"\"}}}],\"carpet\":[{\"aaxis\":{\"endlinecolor\":\"#2a3f5f\",\"gridcolor\":\"white\",\"linecolor\":\"white\",\"minorgridcolor\":\"white\",\"startlinecolor\":\"#2a3f5f\"},\"baxis\":{\"endlinecolor\":\"#2a3f5f\",\"gridcolor\":\"white\",\"linecolor\":\"white\",\"minorgridcolor\":\"white\",\"startlinecolor\":\"#2a3f5f\"},\"type\":\"carpet\"}],\"table\":[{\"cells\":{\"fill\":{\"color\":\"#EBF0F8\"},\"line\":{\"color\":\"white\"}},\"header\":{\"fill\":{\"color\":\"#C8D4E3\"},\"line\":{\"color\":\"white\"}},\"type\":\"table\"}],\"barpolar\":[{\"marker\":{\"line\":{\"color\":\"#E5ECF6\",\"width\":0.5},\"pattern\":{\"fillmode\":\"overlay\",\"size\":10,\"solidity\":0.2}},\"type\":\"barpolar\"}],\"pie\":[{\"automargin\":true,\"type\":\"pie\"}]},\"layout\":{\"autotypenumbers\":\"strict\",\"colorway\":[\"#636efa\",\"#EF553B\",\"#00cc96\",\"#ab63fa\",\"#FFA15A\",\"#19d3f3\",\"#FF6692\",\"#B6E880\",\"#FF97FF\",\"#FECB52\"],\"font\":{\"color\":\"#2a3f5f\"},\"hovermode\":\"closest\",\"hoverlabel\":{\"align\":\"left\"},\"paper_bgcolor\":\"white\",\"plot_bgcolor\":\"#E5ECF6\",\"polar\":{\"bgcolor\":\"#E5ECF6\",\"angularaxis\":{\"gridcolor\":\"white\",\"linecolor\":\"white\",\"ticks\":\"\"},\"radialaxis\":{\"gridcolor\":\"white\",\"linecolor\":\"white\",\"ticks\":\"\"}},\"ternary\":{\"bgcolor\":\"#E5ECF6\",\"aaxis\":{\"gridcolor\":\"white\",\"linecolor\":\"white\",\"ticks\":\"\"},\"baxis\":{\"gridcolor\":\"white\",\"linecolor\":\"white\",\"ticks\":\"\"},\"caxis\":{\"gridcolor\":\"white\",\"linecolor\":\"white\",\"ticks\":\"\"}},\"coloraxis\":{\"colorbar\":{\"outlinewidth\":0,\"ticks\":\"\"}},\"colorscale\":{\"sequential\":[[0.0,\"#0d0887\"],[0.1111111111111111,\"#46039f\"],[0.2222222222222222,\"#7201a8\"],[0.3333333333333333,\"#9c179e\"],[0.4444444444444444,\"#bd3786\"],[0.5555555555555556,\"#d8576b\"],[0.6666666666666666,\"#ed7953\"],[0.7777777777777778,\"#fb9f3a\"],[0.8888888888888888,\"#fdca26\"],[1.0,\"#f0f921\"]],\"sequentialminus\":[[0.0,\"#0d0887\"],[0.1111111111111111,\"#46039f\"],[0.2222222222222222,\"#7201a8\"],[0.3333333333333333,\"#9c179e\"],[0.4444444444444444,\"#bd3786\"],[0.5555555555555556,\"#d8576b\"],[0.6666666666666666,\"#ed7953\"],[0.7777777777777778,\"#fb9f3a\"],[0.8888888888888888,\"#fdca26\"],[1.0,\"#f0f921\"]],\"diverging\":[[0,\"#8e0152\"],[0.1,\"#c51b7d\"],[0.2,\"#de77ae\"],[0.3,\"#f1b6da\"],[0.4,\"#fde0ef\"],[0.5,\"#f7f7f7\"],[0.6,\"#e6f5d0\"],[0.7,\"#b8e186\"],[0.8,\"#7fbc41\"],[0.9,\"#4d9221\"],[1,\"#276419\"]]},\"xaxis\":{\"gridcolor\":\"white\",\"linecolor\":\"white\",\"ticks\":\"\",\"title\":{\"standoff\":15},\"zerolinecolor\":\"white\",\"automargin\":true,\"zerolinewidth\":2},\"yaxis\":{\"gridcolor\":\"white\",\"linecolor\":\"white\",\"ticks\":\"\",\"title\":{\"standoff\":15},\"zerolinecolor\":\"white\",\"automargin\":true,\"zerolinewidth\":2},\"scene\":{\"xaxis\":{\"backgroundcolor\":\"#E5ECF6\",\"gridcolor\":\"white\",\"linecolor\":\"white\",\"showbackground\":true,\"ticks\":\"\",\"zerolinecolor\":\"white\",\"gridwidth\":2},\"yaxis\":{\"backgroundcolor\":\"#E5ECF6\",\"gridcolor\":\"white\",\"linecolor\":\"white\",\"showbackground\":true,\"ticks\":\"\",\"zerolinecolor\":\"white\",\"gridwidth\":2},\"zaxis\":{\"backgroundcolor\":\"#E5ECF6\",\"gridcolor\":\"white\",\"linecolor\":\"white\",\"showbackground\":true,\"ticks\":\"\",\"zerolinecolor\":\"white\",\"gridwidth\":2}},\"shapedefaults\":{\"line\":{\"color\":\"#2a3f5f\"}},\"annotationdefaults\":{\"arrowcolor\":\"#2a3f5f\",\"arrowhead\":0,\"arrowwidth\":1},\"geo\":{\"bgcolor\":\"white\",\"landcolor\":\"#E5ECF6\",\"subunitcolor\":\"white\",\"showland\":true,\"showlakes\":true,\"lakecolor\":\"white\"},\"title\":{\"x\":0.05},\"mapbox\":{\"style\":\"light\"}}},\"legend\":{\"tracegroupgap\":0},\"margin\":{\"t\":60},\"height\":700,\"width\":700},                        {\"responsive\": true}                    ).then(function(){\n",
       "                            \n",
       "var gd = document.getElementById('561df63d-2dab-45da-9e20-5444b6f84c63');\n",
       "var x = new MutationObserver(function (mutations, observer) {{\n",
       "        var display = window.getComputedStyle(gd).display;\n",
       "        if (!display || display === 'none') {{\n",
       "            console.log([gd, 'removed!']);\n",
       "            Plotly.purge(gd);\n",
       "            observer.disconnect();\n",
       "        }}\n",
       "}});\n",
       "\n",
       "// Listen for the removal of the full notebook cells\n",
       "var notebookContainer = gd.closest('#notebook-container');\n",
       "if (notebookContainer) {{\n",
       "    x.observe(notebookContainer, {childList: true});\n",
       "}}\n",
       "\n",
       "// Listen for the clearing of the current output cell\n",
       "var outputEl = gd.closest('.output');\n",
       "if (outputEl) {{\n",
       "    x.observe(outputEl, {childList: true});\n",
       "}}\n",
       "\n",
       "                        })                };                });            </script>        </div>"
      ]
     },
     "metadata": {},
     "output_type": "display_data"
    }
   ],
   "source": [
    "px.pie(names=season_count.index,values=season_count.values,hole=.6, width = 700, height = 700)"
   ]
  },
  {
   "cell_type": "markdown",
   "id": "079cfaa0",
   "metadata": {
    "papermill": {
     "duration": 0.05134,
     "end_time": "2024-10-17T06:01:02.643176",
     "exception": false,
     "start_time": "2024-10-17T06:01:02.591836",
     "status": "completed"
    },
    "tags": []
   },
   "source": [
    "## **Comparing the average speed  and participation of Athletes by season and gender**"
   ]
  },
  {
   "cell_type": "code",
   "execution_count": 177,
   "id": "829e54b8",
   "metadata": {
    "papermill": {
     "duration": 0.074244,
     "end_time": "2024-10-17T06:01:02.765052",
     "exception": false,
     "start_time": "2024-10-17T06:01:02.690808",
     "status": "completed"
    },
    "tags": []
   },
   "outputs": [
    {
     "data": {
      "text/html": [
       "<div>\n",
       "<style scoped>\n",
       "    .dataframe tbody tr th:only-of-type {\n",
       "        vertical-align: middle;\n",
       "    }\n",
       "\n",
       "    .dataframe tbody tr th {\n",
       "        vertical-align: top;\n",
       "    }\n",
       "\n",
       "    .dataframe thead tr th {\n",
       "        text-align: left;\n",
       "    }\n",
       "\n",
       "    .dataframe thead tr:last-of-type th {\n",
       "        text-align: right;\n",
       "    }\n",
       "</style>\n",
       "<table border=\"1\" class=\"dataframe\">\n",
       "  <thead>\n",
       "    <tr>\n",
       "      <th></th>\n",
       "      <th></th>\n",
       "      <th>Athlete gender</th>\n",
       "      <th colspan=\"2\" halign=\"left\">Athlete average speed</th>\n",
       "    </tr>\n",
       "    <tr>\n",
       "      <th></th>\n",
       "      <th></th>\n",
       "      <th>count</th>\n",
       "      <th>mean</th>\n",
       "      <th>count</th>\n",
       "    </tr>\n",
       "    <tr>\n",
       "      <th>seasons</th>\n",
       "      <th>Athlete gender</th>\n",
       "      <th></th>\n",
       "      <th></th>\n",
       "      <th></th>\n",
       "    </tr>\n",
       "  </thead>\n",
       "  <tbody>\n",
       "    <tr>\n",
       "      <th rowspan=\"2\" valign=\"top\">fall</th>\n",
       "      <th>F</th>\n",
       "      <td>195</td>\n",
       "      <td>6.810046</td>\n",
       "      <td>195</td>\n",
       "    </tr>\n",
       "    <tr>\n",
       "      <th>M</th>\n",
       "      <td>1483</td>\n",
       "      <td>7.103766</td>\n",
       "      <td>1483</td>\n",
       "    </tr>\n",
       "    <tr>\n",
       "      <th rowspan=\"2\" valign=\"top\">spring</th>\n",
       "      <th>F</th>\n",
       "      <td>19</td>\n",
       "      <td>6.635000</td>\n",
       "      <td>19</td>\n",
       "    </tr>\n",
       "    <tr>\n",
       "      <th>M</th>\n",
       "      <td>213</td>\n",
       "      <td>7.105859</td>\n",
       "      <td>213</td>\n",
       "    </tr>\n",
       "    <tr>\n",
       "      <th rowspan=\"2\" valign=\"top\">summer</th>\n",
       "      <th>F</th>\n",
       "      <td>94</td>\n",
       "      <td>7.326191</td>\n",
       "      <td>94</td>\n",
       "    </tr>\n",
       "    <tr>\n",
       "      <th>M</th>\n",
       "      <td>896</td>\n",
       "      <td>7.611176</td>\n",
       "      <td>896</td>\n",
       "    </tr>\n",
       "    <tr>\n",
       "      <th rowspan=\"2\" valign=\"top\">winter</th>\n",
       "      <th>F</th>\n",
       "      <td>437</td>\n",
       "      <td>6.653442</td>\n",
       "      <td>437</td>\n",
       "    </tr>\n",
       "    <tr>\n",
       "      <th>M</th>\n",
       "      <td>3016</td>\n",
       "      <td>6.923200</td>\n",
       "      <td>3016</td>\n",
       "    </tr>\n",
       "  </tbody>\n",
       "</table>\n",
       "</div>"
      ],
      "text/plain": [
       "                       Athlete gender Athlete average speed      \n",
       "                                count                  mean count\n",
       "seasons Athlete gender                                           \n",
       "fall    F                         195              6.810046   195\n",
       "        M                        1483              7.103766  1483\n",
       "spring  F                          19              6.635000    19\n",
       "        M                         213              7.105859   213\n",
       "summer  F                          94              7.326191    94\n",
       "        M                         896              7.611176   896\n",
       "winter  F                         437              6.653442   437\n",
       "        M                        3016              6.923200  3016"
      ]
     },
     "execution_count": 177,
     "metadata": {},
     "output_type": "execute_result"
    }
   ],
   "source": [
    "#comparing the average speed by season and gender\n",
    "Season_race = df.groupby(['seasons','Athlete gender']).agg({'Athlete gender': 'count', 'Athlete average speed': ['mean', 'count']})\n",
    "Season_race"
   ]
  },
  {
   "cell_type": "code",
   "execution_count": 179,
   "id": "94f4b194",
   "metadata": {
    "papermill": {
     "duration": 0.067851,
     "end_time": "2024-10-17T06:01:02.879598",
     "exception": false,
     "start_time": "2024-10-17T06:01:02.811747",
     "status": "completed"
    },
    "tags": []
   },
   "outputs": [
    {
     "data": {
      "text/html": [
       "<div>\n",
       "<style scoped>\n",
       "    .dataframe tbody tr th:only-of-type {\n",
       "        vertical-align: middle;\n",
       "    }\n",
       "\n",
       "    .dataframe tbody tr th {\n",
       "        vertical-align: top;\n",
       "    }\n",
       "\n",
       "    .dataframe thead th {\n",
       "        text-align: right;\n",
       "    }\n",
       "</style>\n",
       "<table border=\"1\" class=\"dataframe\">\n",
       "  <thead>\n",
       "    <tr style=\"text-align: right;\">\n",
       "      <th></th>\n",
       "      <th>mean</th>\n",
       "      <th>count</th>\n",
       "    </tr>\n",
       "    <tr>\n",
       "      <th>seasons</th>\n",
       "      <th></th>\n",
       "      <th></th>\n",
       "    </tr>\n",
       "  </thead>\n",
       "  <tbody>\n",
       "    <tr>\n",
       "      <th>summer</th>\n",
       "      <td>7.584117</td>\n",
       "      <td>990</td>\n",
       "    </tr>\n",
       "    <tr>\n",
       "      <th>fall</th>\n",
       "      <td>7.069633</td>\n",
       "      <td>1678</td>\n",
       "    </tr>\n",
       "    <tr>\n",
       "      <th>spring</th>\n",
       "      <td>7.067297</td>\n",
       "      <td>232</td>\n",
       "    </tr>\n",
       "    <tr>\n",
       "      <th>winter</th>\n",
       "      <td>6.889061</td>\n",
       "      <td>3453</td>\n",
       "    </tr>\n",
       "  </tbody>\n",
       "</table>\n",
       "</div>"
      ],
      "text/plain": [
       "             mean  count\n",
       "seasons                 \n",
       "summer   7.584117    990\n",
       "fall     7.069633   1678\n",
       "spring   7.067297    232\n",
       "winter   6.889061   3453"
      ]
     },
     "execution_count": 179,
     "metadata": {},
     "output_type": "execute_result"
    }
   ],
   "source": [
    "Season_race = df.groupby('seasons')['Athlete average speed'].agg(['mean', 'count']).sort_values(by='mean',ascending=False)\n",
    "Season_race"
   ]
  },
  {
   "cell_type": "markdown",
   "id": "650bbee8",
   "metadata": {
    "papermill": {
     "duration": 0.0483,
     "end_time": "2024-10-17T06:01:02.976277",
     "exception": false,
     "start_time": "2024-10-17T06:01:02.927977",
     "status": "completed"
    },
    "tags": []
   },
   "source": [
    "## **Effect of season on Athlete average speed**"
   ]
  },
  {
   "cell_type": "code",
   "execution_count": 181,
   "id": "e2980a68",
   "metadata": {
    "papermill": {
     "duration": 0.476324,
     "end_time": "2024-10-17T06:01:03.501887",
     "exception": false,
     "start_time": "2024-10-17T06:01:03.025563",
     "status": "completed"
    },
    "tags": []
   },
   "outputs": [
    {
     "data": {
      "image/png": "[encoded data removed]",
      "text/plain": [
       "<Figure size 500x500 with 1 Axes>"
      ]
     },
     "metadata": {},
     "output_type": "display_data"
    }
   ],
   "source": [
    "sns.relplot(data = Season_race , x = 'seasons' , y = 'mean',kind = 'line' )\n",
    "plt.title('comparing the average speed by season')\n",
    "plt.show()"
   ]
  },
  {
   "cell_type": "code",
   "execution_count": null,
   "id": "26088310-4917-4e4b-88ea-107545aa4023",
   "metadata": {},
   "outputs": [],
   "source": []
  }
 ],
 "metadata": {
  "kaggle": {
   "accelerator": "none",
   "dataSources": [
    {
     "datasetId": 1038,
     "sourceId": 2141,
     "sourceType": "datasetVersion"
    },
    {
     "datasetId": 1266,
     "sourceId": 2257,
     "sourceType": "datasetVersion"
    },
    {
     "datasetId": 1288,
     "sourceId": 2314,
     "sourceType": "datasetVersion"
    },
    {
     "datasetId": 1019437,
     "sourceId": 1718718,
     "sourceType": "datasetVersion"
    },
    {
     "datasetId": 1475786,
     "sourceId": 3445521,
     "sourceType": "datasetVersion"
    },
    {
     "datasetId": 3417125,
     "sourceId": 6123935,
     "sourceType": "datasetVersion"
    }
   ],
   "dockerImageVersionId": 30732,
   "isGpuEnabled": false,
   "isInternetEnabled": true,
   "language": "python",
   "sourceType": "notebook"
  },
  "kernelspec": {
   "display_name": "Python [conda env:base] *",
   "language": "python",
   "name": "conda-base-py"
  },
  "language_info": {
   "codemirror_mode": {
    "name": "ipython",
    "version": 3
   },
   "file_extension": ".py",
   "mimetype": "text/x-python",
   "name": "python",
   "nbconvert_exporter": "python",
   "pygments_lexer": "ipython3",
   "version": "3.12.7"
  },
  "papermill": {
   "default_parameters": {},
   "duration": 63.272171,
   "end_time": "2024-10-17T06:01:05.077205",
   "environment_variables": {},
   "exception": null,
   "input_path": "__notebook__.ipynb",
   "output_path": "__notebook__.ipynb",
   "parameters": {},
   "start_time": "2024-10-17T06:00:01.805034",
   "version": "2.5.0"
  }
 },
 "nbformat": 4,
 "nbformat_minor": 5
}
